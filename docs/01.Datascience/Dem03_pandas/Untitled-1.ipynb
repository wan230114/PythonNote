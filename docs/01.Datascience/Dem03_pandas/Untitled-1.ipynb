{
    "cells": [
        {
            "cell_type": "code",
            "execution_count": 16,
            "source": [
                "import numpy as np\n",
                "import pandas as pd\n",
                "\n",
                "INDEX1 = [[\"MSI\", \"MSI\", \"MSI\", \"TMB\", \"TMB\", \"TMB\"], [\n",
                "    \"Coding Region Size in Megabases\",\n",
                "    \"Number of Passing Eligible Variants\",\n",
                "    \"Percent Unstable MSI Sites\",\n",
                "    \"Total TMB Sites Unstable\",\n",
                "    \"Total TMB\",\n",
                "    \"Usable MSI Sites\",\n",
                "]]\n",
                "INDEX2 = [[\"TMB\", \"TMB\", \"TMB\", \"MSI\", \"MSI\", \"MSI\"], [\n",
                "    \"Total TMB\",\n",
                "    \"Coding Region Size in Megabases\",\n",
                "    \"Number of Passing Eligible Variants\",\n",
                "    \"Usable MSI Sites\",\n",
                "    \"Total TMB Sites Unstable\",\n",
                "    \"Percent Unstable MSI Sites\",\n",
                "]]"
            ],
            "outputs": [],
            "metadata": {}
        },
        {
            "cell_type": "code",
            "execution_count": 17,
            "source": [
                "ff = pd.DataFrame(np.arange(6).reshape(6, 1), index=INDEX1)\n",
                "ff.loc[\"MSI\"].loc[\"Coding Region Size in Megabases\"] = 1\n",
                "ff"
            ],
            "outputs": [
                {
                    "output_type": "execute_result",
                    "data": {
                        "text/plain": [
                            "                                         0\n",
                            "MSI Coding Region Size in Megabases      1\n",
                            "    Number of Passing Eligible Variants  1\n",
                            "    Percent Unstable MSI Sites           2\n",
                            "TMB Total TMB Sites Unstable             3\n",
                            "    Total TMB                            4\n",
                            "    Usable MSI Sites                     5"
                        ],
                        "text/html": [
                            "<div>\n",
                            "<style scoped>\n",
                            "    .dataframe tbody tr th:only-of-type {\n",
                            "        vertical-align: middle;\n",
                            "    }\n",
                            "\n",
                            "    .dataframe tbody tr th {\n",
                            "        vertical-align: top;\n",
                            "    }\n",
                            "\n",
                            "    .dataframe thead th {\n",
                            "        text-align: right;\n",
                            "    }\n",
                            "</style>\n",
                            "<table border=\"1\" class=\"dataframe\">\n",
                            "  <thead>\n",
                            "    <tr style=\"text-align: right;\">\n",
                            "      <th></th>\n",
                            "      <th></th>\n",
                            "      <th>0</th>\n",
                            "    </tr>\n",
                            "  </thead>\n",
                            "  <tbody>\n",
                            "    <tr>\n",
                            "      <th rowspan=\"3\" valign=\"top\">MSI</th>\n",
                            "      <th>Coding Region Size in Megabases</th>\n",
                            "      <td>1</td>\n",
                            "    </tr>\n",
                            "    <tr>\n",
                            "      <th>Number of Passing Eligible Variants</th>\n",
                            "      <td>1</td>\n",
                            "    </tr>\n",
                            "    <tr>\n",
                            "      <th>Percent Unstable MSI Sites</th>\n",
                            "      <td>2</td>\n",
                            "    </tr>\n",
                            "    <tr>\n",
                            "      <th rowspan=\"3\" valign=\"top\">TMB</th>\n",
                            "      <th>Total TMB Sites Unstable</th>\n",
                            "      <td>3</td>\n",
                            "    </tr>\n",
                            "    <tr>\n",
                            "      <th>Total TMB</th>\n",
                            "      <td>4</td>\n",
                            "    </tr>\n",
                            "    <tr>\n",
                            "      <th>Usable MSI Sites</th>\n",
                            "      <td>5</td>\n",
                            "    </tr>\n",
                            "  </tbody>\n",
                            "</table>\n",
                            "</div>"
                        ]
                    },
                    "metadata": {},
                    "execution_count": 17
                }
            ],
            "metadata": {}
        },
        {
            "cell_type": "code",
            "execution_count": 19,
            "source": [
                "df1 = pd.DataFrame(np.arange(6).reshape(6, 1), index=INDEX2)\n",
                "df1.loc[\"TMB\"].loc[\"Total TMB\"] = 1\n",
                "df1"
            ],
            "outputs": [
                {
                    "output_type": "execute_result",
                    "data": {
                        "text/plain": [
                            "                                         0\n",
                            "TMB Total TMB                            0\n",
                            "    Coding Region Size in Megabases      1\n",
                            "    Number of Passing Eligible Variants  2\n",
                            "MSI Usable MSI Sites                     3\n",
                            "    Total TMB Sites Unstable             4\n",
                            "    Percent Unstable MSI Sites           5"
                        ],
                        "text/html": [
                            "<div>\n",
                            "<style scoped>\n",
                            "    .dataframe tbody tr th:only-of-type {\n",
                            "        vertical-align: middle;\n",
                            "    }\n",
                            "\n",
                            "    .dataframe tbody tr th {\n",
                            "        vertical-align: top;\n",
                            "    }\n",
                            "\n",
                            "    .dataframe thead th {\n",
                            "        text-align: right;\n",
                            "    }\n",
                            "</style>\n",
                            "<table border=\"1\" class=\"dataframe\">\n",
                            "  <thead>\n",
                            "    <tr style=\"text-align: right;\">\n",
                            "      <th></th>\n",
                            "      <th></th>\n",
                            "      <th>0</th>\n",
                            "    </tr>\n",
                            "  </thead>\n",
                            "  <tbody>\n",
                            "    <tr>\n",
                            "      <th rowspan=\"3\" valign=\"top\">TMB</th>\n",
                            "      <th>Total TMB</th>\n",
                            "      <td>0</td>\n",
                            "    </tr>\n",
                            "    <tr>\n",
                            "      <th>Coding Region Size in Megabases</th>\n",
                            "      <td>1</td>\n",
                            "    </tr>\n",
                            "    <tr>\n",
                            "      <th>Number of Passing Eligible Variants</th>\n",
                            "      <td>2</td>\n",
                            "    </tr>\n",
                            "    <tr>\n",
                            "      <th rowspan=\"3\" valign=\"top\">MSI</th>\n",
                            "      <th>Usable MSI Sites</th>\n",
                            "      <td>3</td>\n",
                            "    </tr>\n",
                            "    <tr>\n",
                            "      <th>Total TMB Sites Unstable</th>\n",
                            "      <td>4</td>\n",
                            "    </tr>\n",
                            "    <tr>\n",
                            "      <th>Percent Unstable MSI Sites</th>\n",
                            "      <td>5</td>\n",
                            "    </tr>\n",
                            "  </tbody>\n",
                            "</table>\n",
                            "</div>"
                        ]
                    },
                    "metadata": {},
                    "execution_count": 19
                }
            ],
            "metadata": {}
        },
        {
            "cell_type": "code",
            "execution_count": 20,
            "source": [
                "df1 = pd.DataFrame(np.arange(6).reshape(6, 1), index=INDEX2)\n",
                "df1.loc[(\"TMB\",\"Total TMB\")] = 1\n",
                "df1"
            ],
            "outputs": [
                {
                    "output_type": "execute_result",
                    "data": {
                        "text/plain": [
                            "                                         0\n",
                            "TMB Total TMB                            1\n",
                            "    Coding Region Size in Megabases      1\n",
                            "    Number of Passing Eligible Variants  2\n",
                            "MSI Usable MSI Sites                     3\n",
                            "    Total TMB Sites Unstable             4\n",
                            "    Percent Unstable MSI Sites           5"
                        ],
                        "text/html": [
                            "<div>\n",
                            "<style scoped>\n",
                            "    .dataframe tbody tr th:only-of-type {\n",
                            "        vertical-align: middle;\n",
                            "    }\n",
                            "\n",
                            "    .dataframe tbody tr th {\n",
                            "        vertical-align: top;\n",
                            "    }\n",
                            "\n",
                            "    .dataframe thead th {\n",
                            "        text-align: right;\n",
                            "    }\n",
                            "</style>\n",
                            "<table border=\"1\" class=\"dataframe\">\n",
                            "  <thead>\n",
                            "    <tr style=\"text-align: right;\">\n",
                            "      <th></th>\n",
                            "      <th></th>\n",
                            "      <th>0</th>\n",
                            "    </tr>\n",
                            "  </thead>\n",
                            "  <tbody>\n",
                            "    <tr>\n",
                            "      <th rowspan=\"3\" valign=\"top\">TMB</th>\n",
                            "      <th>Total TMB</th>\n",
                            "      <td>1</td>\n",
                            "    </tr>\n",
                            "    <tr>\n",
                            "      <th>Coding Region Size in Megabases</th>\n",
                            "      <td>1</td>\n",
                            "    </tr>\n",
                            "    <tr>\n",
                            "      <th>Number of Passing Eligible Variants</th>\n",
                            "      <td>2</td>\n",
                            "    </tr>\n",
                            "    <tr>\n",
                            "      <th rowspan=\"3\" valign=\"top\">MSI</th>\n",
                            "      <th>Usable MSI Sites</th>\n",
                            "      <td>3</td>\n",
                            "    </tr>\n",
                            "    <tr>\n",
                            "      <th>Total TMB Sites Unstable</th>\n",
                            "      <td>4</td>\n",
                            "    </tr>\n",
                            "    <tr>\n",
                            "      <th>Percent Unstable MSI Sites</th>\n",
                            "      <td>5</td>\n",
                            "    </tr>\n",
                            "  </tbody>\n",
                            "</table>\n",
                            "</div>"
                        ]
                    },
                    "metadata": {},
                    "execution_count": 20
                }
            ],
            "metadata": {}
        },
        {
            "cell_type": "code",
            "execution_count": 21,
            "source": [
                "df1 = pd.DataFrame(np.arange(6).reshape(6, 1), index=INDEX2)\n",
                "df1.index"
            ],
            "outputs": [
                {
                    "output_type": "execute_result",
                    "data": {
                        "text/plain": [
                            "MultiIndex([('TMB',                           'Total TMB'),\n",
                            "            ('TMB',     'Coding Region Size in Megabases'),\n",
                            "            ('TMB', 'Number of Passing Eligible Variants'),\n",
                            "            ('MSI',                    'Usable MSI Sites'),\n",
                            "            ('MSI',            'Total TMB Sites Unstable'),\n",
                            "            ('MSI',          'Percent Unstable MSI Sites')],\n",
                            "           )"
                        ]
                    },
                    "metadata": {},
                    "execution_count": 21
                }
            ],
            "metadata": {}
        }
    ],
    "metadata": {
        "orig_nbformat": 4,
        "language_info": {
            "name": "python",
            "version": "3.7.10",
            "mimetype": "text/x-python",
            "codemirror_mode": {
                "name": "ipython",
                "version": 3
            },
            "pygments_lexer": "ipython3",
            "nbconvert_exporter": "python",
            "file_extension": ".py"
        },
        "kernelspec": {
            "name": "python3",
            "display_name": "Python 3.7.10 64-bit ('dev': conda)"
        },
        "interpreter": {
            "hash": "3d7cffd5d2fef8cfb2710847c522a2617911b11bc83c19effe5b737bddd0a410"
        }
    },
    "nbformat": 4,
    "nbformat_minor": 2
}