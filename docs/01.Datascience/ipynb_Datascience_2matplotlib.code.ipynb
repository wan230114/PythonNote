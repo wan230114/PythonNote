{
  "metadata": {
    "kernelspec": {
      "display_name": "Python 3",
      "language": "python",
      "name": "python3"
    },
    "language_info": {
      "codemirror_mode": {
        "name": "ipython",
        "version": 3
      },
      "file_extension": ".py",
      "mimetype": "text/x-python",
      "name": "python",
      "nbconvert_exporter": "python",
      "pygments_lexer": "ipython3",
      "version": "3.7.9"
    }
  },
  "nbformat": 4,
  "cells": [
    {
      "cell_type": "code",
      "source": [
        "# 绘制一条折线\n",
        "import matplotlib.pyplot as mp\n",
        "xarray = [0, 2, 3]  # xarray: <序列> 水平坐标序列\n",
        "yarray = [0, 2, 4]  # yarray: <序列> 垂直坐标序列\n",
        "mp.plot(xarray, yarray)\n",
        "mp.show()  # 显示图表\n"
      ],
      "metadata": {
        "trusted": true
      },
      "outputs": []
    },
    {
      "cell_type": "code",
      "source": [
        "import matplotlib.pyplot as mp\n",
        "# linestyle: '-' 实线  '--' 虚线  ':' 点线\n",
        "# linewidth: 线宽 (数字)\n",
        "# color: <关键字参数> 颜色\n",
        "#        英文颜色单词 或 常见颜色英文单词首字母 或 #495434 或 (1,1,1) 或 (1,1,1,1)\n",
        "# alpha: <关键字参数> 透明度\n",
        "#        浮点数值\n",
        "xarray = [1, 4, 8, 10]\n",
        "yarray = [4, 1, 3, 9]\n",
        "# \":\"   0.7透明度  3倍线宽   颜色red\n",
        "mp.plot(xarray, yarray, linestyle='-', linewidth=3, color='red', alpha=0.7)\n",
        "mp.show()\n"
      ],
      "metadata": {
        "trusted": true
      },
      "outputs": []
    },
    {
      "cell_type": "code",
      "source": [
        "import matplotlib.pyplot as mp\n",
        "# x轴起点，y轴起点，y轴终点\n",
        "mp.vlines(8, 2, 10)  # vertical 绘制垂直线  mp.vlines(vval, ymin, ymax, ...)\n",
        "# y轴起点，x轴起点，x轴终点\n",
        "mp.hlines(5, 2, 12)  # horizotal 绘制水平线  mp.hlines(xval, xmin, xmax, ...)\n",
        "mp.show()  #显示图表\n"
      ],
      "metadata": {
        "trusted": true
      },
      "outputs": []
    },
    {
      "cell_type": "code",
      "source": [
        "import matplotlib.pyplot as mp\n",
        "# x_limt_min / x_limit_max: <float> x轴范围最小值/x轴范围最大值\n",
        "# y_limt_min / y_limit_max: <float> y轴范围最小值，y轴范围最大值\n",
        "y_limt_min, y_limit_max = -2, 14\n",
        "x_limt_min, x_limit_max = 0, 10\n",
        "mp.xlim(x_limt_min, x_limit_max)\n",
        "mp.ylim(y_limt_min, y_limit_max)\n",
        "mp.show()\n"
      ],
      "metadata": {
        "trusted": true
      },
      "outputs": []
    },
    {
      "cell_type": "code",
      "source": [
        "import matplotlib.pyplot as mp\n",
        "# x_val_list:  x轴刻度值序列, x_text_list: x轴刻度标签文本序列 [可选]\n",
        "# y_val_list:  y轴刻度值序列, y_text_list: y轴刻度标签文本序列 [可选]\n",
        "mp.xticks([1, 2, 3, 4, 5], list(\"ABCDE\") )\n",
        "mp.yticks([1, 2, 3, 4, 5], list(\"ABCDE\") )\n",
        "mp.show()\n"
      ],
      "metadata": {
        "trusted": true
      },
      "outputs": []
    },
    {
      "cell_type": "code",
      "source": [
        "import matplotlib.pyplot as mp\n",
        "# 获取当前坐标轴字典，{'left':左轴,'right':右轴,'bottom':下轴,'top':上轴 }\n",
        "ax = mp.gca()\n",
        "# 获取其中某个坐标轴\n",
        "axis = ax.spines['left']  # 坐标轴名：left, right, bottom, top\n",
        "axis.set_position(('data', 0))\n",
        "# 设置坐标轴的位置。 该方法需要传入2个元素的元组作为参数\n",
        "    # type: <str> 移动坐标轴的参照类型  一般为'data' (以数据的值作为移动参照值)\n",
        "    # val:  参照值\n",
        "# 设置坐标轴的颜色\n",
        "axis.set_color('red')  # color: <str> 颜色值字符串\n",
        "mp.yticks([-1, -0.5, 0.5, 1])\n",
        "mp.xticks([-2, -1, 1, 2])\n",
        "mp.show()\n"
      ],
      "metadata": {
        "trusted": true
      },
      "outputs": []
    },
    {
      "cell_type": "code",
      "source": [
        "import matplotlib.pyplot as mp\n",
        "# 设置坐标轴, 设置顶部右侧线条为无, 设置右下居右\n",
        "ax = mp.gca()\n",
        "ax.spines['top'].set_color('none')\n",
        "ax.spines['right'].set_color('none')\n",
        "ax.spines['left'].set_position(('data', 0))\n",
        "ax.spines['bottom'].set_position(('data', 0))\n",
        "ax.spines['bottom'].set_color('red')\n",
        "mp.yticks([-1, -0.5, 0.5, 1])\n",
        "mp.xticks([-1, -0.5, 0.5, 1])\n",
        "mp.show()\n"
      ],
      "metadata": {
        "trusted": true
      },
      "outputs": []
    },
    {
      "cell_type": "code",
      "source": [
        "import matplotlib.pyplot as mp\n",
        "# 再绘制曲线时定义曲线的label\n",
        "\n",
        "# label: <关键字参数 str> 支持LaTex排版语法字符串\n",
        "xarray = [0,  2,  4]\n",
        "yarray = [0,  1,  2]\n",
        "mp.plot(xarray, yarray)\n",
        "# label 定义曲线名称，为后续显示图例准备\n",
        "mp.plot(xarray, yarray, label=r'$y=\\frac{1}{2}x$')\n",
        "# loc 设置图例\n",
        "mp.legend(loc='best')\n",
        "mp.show()\n"
      ],
      "metadata": {
        "trusted": true
      },
      "outputs": []
    },
    {
      "cell_type": "code",
      "source": [
        "import matplotlib.pyplot as mp\n",
        "# xarray: <序列> 所有需要标注点的水平坐标组成的序列\n",
        "# yarray: <序列> 所有需要标注点的垂直坐标组成的序列\n",
        "xarray = [1, 2, 3, 4]\n",
        "yarray = [3, 1, 2, 4]\n",
        "mp.scatter(xarray, yarray, \n",
        "           marker='o',         #点型 ~ matplotlib.markers\n",
        "           s=60,             #大小\n",
        "           edgecolor='red',     #边缘色\n",
        "           facecolor='orange',    #填充色\n",
        "           zorder=3            #绘制图层编号 （编号越大，图层越靠上）\n",
        ")\n",
        "mp.show()\n"
      ],
      "metadata": {
        "trusted": true
      },
      "outputs": []
    },
    {
      "cell_type": "code",
      "source": [
        "import matplotlib.pyplot as mp\n",
        "# 在图表中为某个点添加备注。包含备注文本，备注箭头等图像的设置。\n",
        "import numpy as np\n",
        "mp.annotate(\n",
        "    r'$(\\frac{\\pi}{4}, 5)$',    #备注中显示的文本内容\n",
        "    xycoords='data',            #备注目标点所使用的坐标系（data表示数据坐标系）\n",
        "    xy=(np.pi/4, 0.5),            #备注目标点的坐标\n",
        "    textcoords='offset points',    #备注文本所使用的坐标系（offset points表示参照点的偏移坐标系）\n",
        "    xytext=(30, 20),            #备注文本的坐标\n",
        "    fontsize=14,                #备注文本的字体大小\n",
        "    arrowprops=dict(  #arrowprops字典参数的常用key\n",
        "        arrowstyle='->', #定义箭头样式\n",
        "        connectionstyle='angle3' #定义连接线的样式\n",
        "        ) \n",
        "    #使用字典定义文本指向目标点的箭头样式\n",
        ")\n",
        "mp.show()\n"
      ],
      "metadata": {
        "trusted": true
      },
      "outputs": []
    },
    {
      "cell_type": "code",
      "source": [
        "\"\"\"\n",
        "demo02_plot.py  基本绘图案例\n",
        "\"\"\"\n",
        "import matplotlib.pyplot as mp\n",
        "import numpy as np\n",
        "\n",
        "# 绘制正弦图像\n",
        "# 从0到2π区间拆1000个点\n",
        "x = np.linspace(-np.pi, np.pi, 1000)\n",
        "y = np.sin(x)\n",
        "mp.plot(x, y, linestyle='--', alpha=0.7,\n",
        "    linewidth=2, color='dodgerblue', \n",
        "    label=r'$y=sin(x)$')\n",
        "# 绘制一条余弦曲线 y=1/2 * cos(x)  \n",
        "# \":\"   0.7透明度  3倍线宽   颜色orangered\n",
        "y2 = np.cos(x) / 2\n",
        "mp.plot(x, y2, linestyle=':', alpha=0.7,\n",
        "    linewidth=3, color='orangered',\n",
        "    label=r'$y=\\frac{1}{2} cos(x)$')\n",
        "\n",
        "# 修改可视区域\n",
        "# mp.xlim(0, np.pi)\n",
        "# mp.ylim(0, 1)\n",
        "\n",
        "# 修改x坐标轴刻度\n",
        "xvals = [-np.pi, -np.pi/2, 0, np.pi/2, np.pi]\n",
        "xtexts = [r'$-\\pi$',r'$-\\frac{\\pi}{2}$',r'$0$',\n",
        "          r'$\\frac{\\pi}{2}$',r'$\\pi$']\n",
        "mp.xticks(xvals, xtexts)\n",
        "\n",
        "# 设置坐标轴\n",
        "ax = mp.gca()\n",
        "ax.spines['top'].set_color('none')\n",
        "ax.spines['right'].set_color('none')\n",
        "ax.spines['left'].set_position(('data', 0))\n",
        "ax.spines['bottom'].set_position(('data', 0))\n",
        "mp.yticks([-1, -0.5, 0.5, 1])\n",
        "\n",
        "# 绘制两个特殊点\n",
        "px = [np.pi/2, np.pi/2]\n",
        "py = [0, 1]\n",
        "mp.scatter(px, py, marker='o', s=70,\n",
        "    color='red', label='Points', \n",
        "    zorder=3)\n",
        "\n",
        "# 绘制点的备注\n",
        "mp.annotate(r'$[\\frac{\\pi}{2}, 1]$', \n",
        "    xycoords='data',\n",
        "    xy=(np.pi/2, 1),\n",
        "    textcoords='offset points',\n",
        "    xytext=(30, 20),\n",
        "    fontsize=14,\n",
        "    arrowprops=dict(\n",
        "        arrowstyle='->',\n",
        "        connectionstyle='angle3'\n",
        "    )\n",
        ")\n",
        "\n",
        "\n",
        "mp.annotate(r'$[\\frac{\\pi}{2}, 0]$', \n",
        "    xycoords='data',\n",
        "    xy=(np.pi/2, 0),\n",
        "    textcoords='offset points',\n",
        "    xytext=(-50, -50),\n",
        "    fontsize=14,\n",
        "    arrowprops=dict(\n",
        "        arrowstyle='->',\n",
        "        connectionstyle='angle3'\n",
        "    )\n",
        ")\n",
        "\n",
        "# 显示图例\n",
        "mp.legend(loc='best')\n",
        "mp.show()\n"
      ],
      "metadata": {
        "trusted": true
      },
      "outputs": []
    },
    {
      "cell_type": "code",
      "source": [
        "import matplotlib.pyplot as mp\n",
        "# 手动构建 matplotlib 窗口\n",
        "mp.figure(\n",
        "    '文本1',            #窗口标题栏文本\n",
        "    figsize=(4, 3),        #窗口大小 <元组>\n",
        "    dpi=120,            #像素密度\n",
        "    facecolor='green'    #图表背景色\n",
        ")\n",
        "mp.show()\n"
      ],
      "metadata": {
        "trusted": true
      },
      "outputs": []
    },
    {
      "cell_type": "code",
      "source": [
        "import matplotlib.pyplot as mp\n",
        "# 1) 设置图表标题 显示在图表上方\n",
        "mp.title('title', fontsize=12)\n",
        "# 2) 设置水平轴的文本\n",
        "mp.xlabel('x_label_str', fontsize=12)\n",
        "# 3) 设置垂直轴的文本\n",
        "mp.ylabel('y_label_str', fontsize=12)\n",
        "# 4) 设置刻度参数   labelsize设置刻度字体大小\n",
        "mp.tick_params(labelsize=8)\n",
        "# 5) 设置图表网格线  linestyle设置网格线的样式\n",
        "    #    -  or solid 粗线\n",
        "    #   -- or dashed 虚线\n",
        "    #   -. or dashdot 点虚线\n",
        "    #   :  or dotted 点线\n",
        "mp.grid(linestyle=':')\n",
        "# 6) 设置紧凑布局\n",
        "mp.tight_layout() \n",
        "mp.show()\n"
      ],
      "metadata": {
        "trusted": true
      },
      "outputs": []
    },
    {
      "cell_type": "code",
      "source": [
        "\"\"\"\n",
        "demo03_figure.py  窗口相关测试\n",
        "\"\"\"\n",
        "import matplotlib.pyplot as mp\n",
        "mp.figure('Figure Title A',\n",
        "          facecolor='lightgray')\n",
        "mp.figure('Figure Title B',\n",
        "          facecolor='lightblue')\n",
        "def fig(s):\n",
        "    mp.figure('Figure Title %s' % s)  # 切换操作窗口\n",
        "    mp.title('Title %s' % s, fontsize=18)\n",
        "    mp.xlabel('Time %s' % s, fontsize=14)\n",
        "    mp.ylabel('Price %s' % s, fontsize=14)\n",
        "    mp.tick_params(labelsize=10)\n",
        "    mp.grid(linestyle=':')\n",
        "    mp.tight_layout()  # 窗口内容紧凑布局\n",
        "fig('A')\n",
        "fig('B')\n",
        "mp.show()\n"
      ],
      "metadata": {
        "trusted": true
      },
      "outputs": []
    },
    {
      "cell_type": "code",
      "source": [
        "import matplotlib.pyplot as mp\n",
        "mp.figure('Subplot Layout', facecolor='lightgray')\n",
        "# 拆分矩阵\n",
        "    # rows:    行数\n",
        "    # cols:    列数\n",
        "    # num:    编号\n",
        "# mp.subplot(rows, cols, num)\n",
        "mp.subplot(3, 3, 1)\n",
        "mp.subplot(3, 3, 3)\n",
        "    #    1 2 3\n",
        "    #    4 5 6\n",
        "    #    7 8 9 \n",
        "mp.subplot(3, 3, 5)        #操作3*3的矩阵中编号为5的子图\n",
        "mp.subplot(336)            #简写\n",
        "mp.show()\n"
      ],
      "metadata": {
        "trusted": true
      },
      "outputs": []
    },
    {
      "cell_type": "code",
      "source": [
        "\"\"\"\n",
        "demo04_subplot.py  矩阵式子图\n",
        "\"\"\"\n",
        "import matplotlib.pyplot as mp\n",
        "mp.figure('Subplot', facecolor='lightgray')\n",
        "for i in range(1, 10):\n",
        "    mp.subplot(3, 3, i)\n",
        "    mp.text(0.5, 0.5, i, ha='center', \n",
        "            va='center', size=36, alpha=0.7)\n",
        "    mp.xticks([])\n",
        "    mp.yticks([])\n",
        "mp.tight_layout()\n",
        "mp.show()\n"
      ],
      "metadata": {
        "trusted": true
      },
      "outputs": []
    },
    {
      "cell_type": "code",
      "source": [
        "import matplotlib.pyplot as mp\n",
        "import matplotlib.gridspec as mg\n",
        "mp.figure('Grid Layout', facecolor='lightgray')\n",
        "\n",
        "# 调用GridSpec方法拆分网格式布局\n",
        "# rows:    行数\n",
        "# cols:    列数\n",
        "# gs = mg.GridSpec(rows, cols)    拆分成3行3列\n",
        "gs = mg.GridSpec(3, 3)\n",
        "\n",
        "# 合并0行与0、1列为一个子图表\n",
        "mp.subplot(gs[0, :2])\n",
        "mp.text(0.5, 0.5, '1', ha='center', va='center', size=36)\n",
        "mp.show()\n"
      ],
      "metadata": {
        "trusted": true
      },
      "outputs": []
    },
    {
      "cell_type": "code",
      "source": [
        "\"\"\"\n",
        "demo05_gridsubplot.py  网格式子图布局\n",
        "\"\"\"\n",
        "import matplotlib.pyplot as mp\n",
        "import matplotlib.gridspec as mg\n",
        "\n",
        "mp.ion()  # 开启一个画图的窗口\n",
        "mp.show()\n",
        "mp.figure('Grid Subplot', facecolor='lightgray')\n",
        "gs = mg.GridSpec(3, 3)\n",
        "mp.subplot(gs[0, :2])\n",
        "mp.text(0.5, 0.5, 1, ha='center', \n",
        "        va='center', size=36, alpha=0.7)\n",
        "mp.xticks([])\n",
        "mp.yticks([])\n",
        "\n",
        "mp.subplot(gs[:2, -1])\n",
        "mp.text(0.5, 0.5, 2, ha='center', \n",
        "        va='center', size=36, alpha=0.7)\n",
        "mp.xticks([])\n",
        "mp.yticks([])\n",
        "\n",
        "mp.subplot(gs[1, 1])\n",
        "mp.text(0.5, 0.5, 3, ha='center', \n",
        "        va='center', size=36, alpha=0.7)\n",
        "mp.xticks([])\n",
        "mp.yticks([])\n",
        "\n",
        "mp.subplot(gs[1:, 0])\n",
        "mp.text(0.5, 0.5, 4, ha='center', \n",
        "        va='center', size=36, alpha=0.7)\n",
        "mp.xticks([])\n",
        "mp.yticks([])\n",
        "\n",
        "mp.subplot(gs[-1, 1:])\n",
        "mp.text(0.5, 0.5, 5, ha='center', \n",
        "        va='center', size=36, alpha=0.7)\n",
        "mp.xticks([])\n",
        "mp.yticks([])\n",
        "\n",
        "mp.tight_layout()\n",
        "mp.show()\n"
      ],
      "metadata": {
        "trusted": true
      },
      "outputs": []
    },
    {
      "cell_type": "code",
      "source": [
        "import matplotlib.pyplot as mp\n",
        "# 设置图标的位置，给出左下角点坐标与宽高即可\n",
        "# left_bottom_x: 左下角点x坐标\n",
        "# left_bottom_y: 左下角点y坐标\n",
        "# width:         宽度\n",
        "# height:         高度\n",
        "# mp.axes([left_bottom_x, left_bottom_y, width, height])\n",
        "mp.figure('Flow Layout', facecolor='lightgray')\n",
        "mp.axes([0.2, 0.5, 0.3, 0.4])\n",
        "mp.text(0.5, 0.5, '1', ha='center', va='center', size=36)\n",
        "mp.show()\n"
      ],
      "metadata": {
        "trusted": true
      },
      "outputs": []
    },
    {
      "cell_type": "code",
      "source": [
        "import matplotlib.pyplot as mp\n",
        "# 获取当前坐标轴\n",
        "ax = mp.gca()\n",
        "# 设置水平坐标轴的主刻度定位器\n",
        "ax.xaxis.set_major_locator(mp.NullLocator())\n",
        "# 设置水平坐标轴的次刻度定位器为多点定位器，间隔0.1\n",
        "ax.xaxis.set_minor_locator(mp.MultipleLocator(0.1))\n"
      ],
      "metadata": {
        "trusted": true
      },
      "outputs": []
    },
    {
      "cell_type": "code",
      "source": [
        "import matplotlib.pyplot as mp\n",
        "mp.figure('Locators', facecolor='lightgray')\n",
        "# 获取当前坐标轴\n",
        "ax = mp.gca()\n",
        "# 隐藏除底轴以外的所有坐标轴, 将底坐标轴调整到子图中心位置\n",
        "ax.spines['left'].set_color('none')\n",
        "ax.spines['top'].set_color('none')\n",
        "ax.spines['right'].set_color('none')\n",
        "ax.spines['bottom'].set_position(('data', 0))\n",
        "# 设置水平坐标轴的主刻度定位器\n",
        "ax.xaxis.set_major_locator(mp.NullLocator())\n",
        "# 设置水平坐标轴的次刻度定位器为多点定位器，间隔0.1\n",
        "ax.xaxis.set_minor_locator(mp.MultipleLocator(0.1))\n",
        "# 标记所用刻度定位器类名\n",
        "mp.text(5, 0.3, 'NullLocator()', ha='center', size=12)\n",
        "mp.show()\n"
      ],
      "metadata": {
        "trusted": true
      },
      "outputs": []
    },
    {
      "cell_type": "code",
      "source": [
        "\"\"\"\n",
        "demo07_locators.py  刻度定位器\n",
        "\"\"\"\n",
        "import matplotlib.pyplot as mp\n",
        "import numpy as np\n",
        "locators = ['mp.NullLocator()', \n",
        "            'mp.MultipleLocator(2)', \n",
        "            'mp.MaxNLocator(nbins=4)']\n",
        "mp.figure('Locators', facecolor='lightgray')\n",
        "for i, locator in enumerate(locators):\n",
        "    mp.subplot(len(locators), 1, i+1)\n",
        "    ax = mp.gca()\n",
        "    # ax.spines['left'].set_color('none')\n",
        "    ax.spines['top'].set_color('none')\n",
        "    ax.spines['right'].set_color('none')\n",
        "    mp.ylim(-1, 1)\n",
        "    mp.xlim(1, 10)\n",
        "    ax.spines['bottom'].set_position(('data', 0))\n",
        "    # 设置主刻度定位器 与 次刻度定位器\n",
        "    maloc = eval(locator)\n",
        "    ax.xaxis.set_major_locator(maloc)\n",
        "    miloc = mp.MultipleLocator(0.1)\n",
        "    ax.xaxis.set_minor_locator(miloc)\n",
        "mp.show()\n"
      ],
      "metadata": {
        "trusted": true
      },
      "outputs": []
    },
    {
      "cell_type": "code",
      "source": [
        "import matplotlib.pyplot as mp\n",
        "import numpy as np\n",
        "y = np.array([1, 10, 100, 1000, 100, 10, 1])\n",
        "mp.subplot(211)\n",
        "\n",
        "ax = mp.gca()\n",
        "ax.xaxis.set_major_locator(mp.MultipleLocator(1.0))\n",
        "ax.xaxis.set_minor_locator(mp.MultipleLocator(0.1))\n",
        "ax.yaxis.set_major_locator(mp.MultipleLocator(250))\n",
        "ax.yaxis.set_minor_locator(mp.MultipleLocator(50))\n",
        "mp.tick_params(labelsize=10)\n",
        "ax.grid(which='major', axis='both', linewidth=0.75,\n",
        "        linestyle='-', color='orange')\n",
        "ax.grid(which='minor', axis='both', linewidth=0.25,\n",
        "        linestyle='-', color='orange')\n",
        "mp.plot(y, 'o-', c='dodgerblue', label='plot')\n",
        "mp.legend()\n",
        "mp.show()\n"
      ],
      "metadata": {
        "trusted": true
      },
      "outputs": []
    },
    {
      "cell_type": "code",
      "source": [
        "\"\"\"\n",
        "demo09_semilogy.py 半对数坐标系\n",
        "\"\"\"\n",
        "import numpy as np\n",
        "import matplotlib.pyplot as mp\n",
        "\n",
        "mp.figure('Normal & Semilogy', facecolor='lightgray')\n",
        "mp.subplot(211)\n",
        "mp.title('Normal', fontsize=20)\n",
        "mp.ylabel('y', fontsize=14)\n",
        "y = [1, 10, 100, 1000, 100, 10, 1]\n",
        "# 设置刻度定位器\n",
        "ax = mp.gca()\n",
        "xmaloc = mp.MultipleLocator(1)\n",
        "ax.xaxis.set_major_locator(xmaloc)\n",
        "xmiloc = mp.MultipleLocator(0.1)\n",
        "ax.xaxis.set_minor_locator(xmiloc)\n",
        "ymaloc = mp.MultipleLocator(250)\n",
        "ax.yaxis.set_major_locator(ymaloc)\n",
        "ymiloc = mp.MultipleLocator(50)\n",
        "ax.yaxis.set_minor_locator(ymiloc)\n",
        "# 绘制刻度网格线\n",
        "ax.grid(which='major', axis='both',\n",
        "    color='orangered', linewidth=0.75)\n",
        "ax.grid(which='minor', axis='both',\n",
        "    color='orangered', linewidth=0.25)\n",
        "mp.plot(y, 'o-')\n",
        "\n",
        "# 半对数坐标系\n",
        "mp.subplot(212)\n",
        "y = [1, 10, 100, 1000, 100, 10, 1]\n",
        "# 设置刻度定位器\n",
        "ax = mp.gca()\n",
        "xmaloc = mp.MultipleLocator(1)\n",
        "ax.xaxis.set_major_locator(xmaloc)\n",
        "xmiloc = mp.MultipleLocator(0.1)\n",
        "ax.xaxis.set_minor_locator(xmiloc)\n",
        "ymaloc = mp.MultipleLocator(250)\n",
        "ax.yaxis.set_major_locator(ymaloc)\n",
        "ymiloc = mp.MultipleLocator(50)\n",
        "ax.yaxis.set_minor_locator(ymiloc)\n",
        "# 绘制刻度网格线\n",
        "ax.grid(which='major', axis='both',\n",
        "    color='orangered', linewidth=0.75)\n",
        "ax.grid(which='minor', axis='both',\n",
        "    color='orangered', linewidth=0.25)\n",
        "mp.semilogy(y, 'o-')  # 用法同 mp.plot()\n",
        "\n",
        "mp.show()\n"
      ],
      "metadata": {
        "trusted": true
      },
      "outputs": []
    },
    {
      "cell_type": "code",
      "source": [
        "n = 100\n",
        "# 172:    期望值\n",
        "# 10:    标准差\n",
        "# n:    数字生成数量\n",
        "x = np.random.normal(172, 20, n)\n",
        "y = np.random.normal(60, 10, n)\n"
      ],
      "metadata": {
        "trusted": true
      },
      "outputs": []
    },
    {
      "cell_type": "code",
      "source": [
        "\"\"\"\n",
        "demo10_scatter.py 散点图\n",
        "\"\"\"\n",
        "import numpy as np\n",
        "import matplotlib.pyplot as mp\n",
        "n = 300\n",
        "x = np.random.normal(175, 5, n)\n",
        "y = np.random.normal(65, 10, n)\n",
        "\n",
        "mp.figure('Persons', facecolor='lightgray')\n",
        "mp.title('Persons')\n",
        "\n",
        "d = (x-175)**2 + (y-65)**2\n",
        "# 设置点的颜色\n",
        "# mp.scatter(x, y, c='red')  #直接设置颜色\n",
        "mp.scatter(x, y, s=60, label='Persons',\n",
        "    c=d, cmap='jet')\n",
        "mp.legend()\n",
        "mp.show()\n"
      ],
      "metadata": {
        "trusted": true
      },
      "outputs": []
    },
    {
      "cell_type": "code",
      "source": [
        "\"\"\"\n",
        "demo01_fill.py  填充\n",
        "\"\"\"\n",
        "import matplotlib.pyplot as mp\n",
        "import numpy as np\n",
        "\n",
        "x = np.linspace(0, 8*np.pi, 1000)\n",
        "sinx = np.sin(x)\n",
        "cosx = np.cos(x/2) / 2\n",
        "mp.figure('Fill', facecolor='lightgray')\n",
        "mp.title('Fill')\n",
        "mp.plot(x, sinx, color='dodgerblue', \n",
        "    label='sinx', linewidth=2)\n",
        "mp.plot(x, cosx, color='orangered', \n",
        "    label='cosx', linewidth=2)\n",
        "# 绘制填充\n",
        "mp.fill_between(x, sinx, cosx, sinx>cosx, \n",
        "    color='dodgerblue', alpha=0.5)\n",
        "mp.fill_between(x, sinx, cosx, sinx<cosx, \n",
        "    color='orangered', alpha=0.5)\n",
        "\n",
        "mp.legend()\n",
        "mp.show()\n"
      ],
      "metadata": {
        "trusted": true
      },
      "outputs": []
    },
    {
      "cell_type": "code",
      "source": [
        "import matplotlib.pyplot as mp\n",
        "import numpy as np\n",
        "apples = np.array([30, 25, 22, 36, 21, 29, 20, 24, 33, 19, 27, 15])\n",
        "oranges = np.array([24, 33, 19, 27, 35, 20, 15, 27, 20, 32, 20, 22])\n",
        "mp.figure('Bar' , facecolor='lightgray')\n",
        "mp.title('Bar', fontsize=20)\n",
        "mp.xlabel('Month', fontsize=14)\n",
        "mp.ylabel('Price', fontsize=14)\n",
        "mp.tick_params(labelsize=10)\n",
        "mp.grid(axis='y', linestyle=':')\n",
        "mp.ylim((0, 40))\n",
        "x = np.arange(len(apples))\n",
        "mp.bar(x - 0.2, apples, 0.4, color='dodgerblue',label='Apple')\n",
        "mp.bar(x + 0.2, oranges, 0.4, color='orangered',label='Orange', alpha=0.75)\n",
        "mp.xticks(x, [\n",
        "    'Jan', 'Feb', 'Mar', 'Apr', 'May', 'Jun',\n",
        "    'Jul', 'Aug', 'Sep', 'Oct', 'Nov', 'Dec'])\n",
        "mp.legend()\n",
        "mp.show()\n"
      ],
      "metadata": {
        "trusted": true
      },
      "outputs": []
    },
    {
      "cell_type": "code",
      "source": [
        "\"\"\"\n",
        "demo03_pie.py  饼状图\n",
        "\"\"\"\n",
        "import numpy as np\n",
        "\n",
        "labels=['Python', 'Javascript', 'C++', \n",
        "        'Java', 'PHP']\n",
        "values=[26, 17, 21, 29, 11]\n",
        "spaces=[0.05, 0.01, 0.01, 0.01, 0.01]\n",
        "colors=['dodgerblue', 'orangered', \n",
        "        'limegreen', 'violet', 'gold']\n",
        "\n",
        "mp.figure('Pie Chart', facecolor='lightgray')\n",
        "mp.title('Languages PR')\n",
        "mp.axis('equal')  # 等轴比例显示正圆\n",
        "mp.pie(values, spaces, labels, colors, \n",
        "    '%.1f%%', shadow=True, startangle=45,\n",
        "    radius=1)\n",
        "mp.legend()\n",
        "mp.show()\n"
      ],
      "metadata": {
        "trusted": true
      },
      "outputs": []
    },
    {
      "cell_type": "code",
      "source": [
        "import matplotlib.pyplot as mp\n",
        "import numpy as np\n",
        "n = 1000\n",
        "# 生成网格化坐标矩阵\n",
        "x, y = np.meshgrid(np.linspace(-3, 3, n),\n",
        "                   np.linspace(-3, 3, n))\n",
        "# 根据每个网格点坐标，通过某个公式计算z高度坐标\n",
        "z = (1 - x/2 + x**5 + y**3) * np.exp(-x**2 - y**2)\n",
        "mp.figure('Contour', facecolor='lightgray')\n",
        "mp.title('Contour', fontsize=20)\n",
        "mp.xlabel('x', fontsize=14)\n",
        "mp.ylabel('y', fontsize=14)\n",
        "mp.tick_params(labelsize=10)\n",
        "mp.grid(linestyle=':')\n",
        "# 绘制等高线图\n",
        "cntr = mp.contour(x, y, z, 8, colors='black',\n",
        "                  linewidths=0.5)\n",
        "# 为等高线图添加高度标签\n",
        "mp.clabel(cntr, inline_spacing=1, fmt='%.1f',\n",
        "          fontsize=10)\n",
        "# 颜色填充\n",
        "mp.contourf(x, y, z, 8, cmap='jet')\n",
        "mp.show()\n"
      ],
      "metadata": {
        "trusted": true
      },
      "outputs": []
    },
    {
      "cell_type": "code",
      "source": [
        "\"\"\"\n",
        "demo05_imshow.py  热成像图显示矩阵\n",
        "\"\"\"\n",
        "import numpy as np\n",
        "import matplotlib.pyplot as mp\n",
        "\n",
        "n = 1000\n",
        "x, y = np.meshgrid(np.linspace(-3, 3, n), \n",
        "                   np.linspace(-3, 3, n))\n",
        "#  根据一个奇妙的公式算出每个坐标点的高度值z\n",
        "z = (1 - x/2 + x**5 + y**3) * np.exp(-x**2 - y**2)\n",
        "# 绘制\n",
        "mp.figure('Imshow', facecolor='lightgray')\n",
        "mp.title('Imshow')\n",
        "mp.grid(linestyle=':')\n",
        "mp.imshow(z, cmap='jet', origin='lower')\n",
        "mp.colorbar()\n",
        "mp.show()\n"
      ],
      "metadata": {
        "trusted": true
      },
      "outputs": []
    },
    {
      "cell_type": "code",
      "source": [
        "\"\"\"\n",
        "demo06_3dscatter.py  3维点阵图\n",
        "\"\"\"\n",
        "import matplotlib.pyplot as mp\n",
        "import numpy as np\n",
        "from mpl_toolkits.mplot3d import axes3d\n",
        "\n",
        "n = 500\n",
        "x = np.random.normal(0, 1, n)\n",
        "y = np.random.normal(0, 1, n)\n",
        "z = np.random.normal(0, 1, n)\n",
        "mp.figure('3D scatter')\n",
        "ax3d = mp.gca(projection='3d')\n",
        "d = x**2 + y**2 + z**2\n",
        "ax3d.scatter(x, y, z, s=70, c=d, alpha=0.7, cmap='jet')\n",
        "ax3d.set_xlabel('x')\n",
        "ax3d.set_ylabel('y')\n",
        "ax3d.set_zlabel('z')\n",
        "mp.tight_layout()\n",
        "mp.show()\n"
      ],
      "metadata": {
        "trusted": true
      },
      "outputs": []
    },
    {
      "cell_type": "code",
      "source": [
        "import numpy as np\n",
        "import matplotlib.pyplot as mp\n",
        "from mpl_toolkits.mplot3d import axes3d\n",
        "\n",
        "n = 1000\n",
        "# 生成网格化坐标矩阵\n",
        "x, y = np.meshgrid(np.linspace(-3, 3, n),\n",
        "                   np.linspace(-3, 3, n))\n",
        "# 根据每个网格点坐标，通过某个公式计算z高度坐标\n",
        "z = (1 - x/2 + x**5 + y**3) * np.exp(-x**2 - y**2)\n",
        "mp.figure('3D', facecolor='lightgray')\n",
        "mp.title('3D', fontsize=20)\n",
        "\n",
        "ax3d = mp.gca(projection='3d')\n",
        "ax3d.set_xlabel('x', fontsize=14)\n",
        "ax3d.set_ylabel('y', fontsize=14)\n",
        "ax3d.set_zlabel('z', fontsize=14)\n",
        "mp.tick_params(labelsize=10)\n",
        "# 绘制3D平面图\n",
        "# rstride: 行跨距\n",
        "# cstride: 列跨距 \n",
        "ax3d.plot_surface(x,y,z,rstride=20,cstride=40, cmap='jet')\n",
        "mp.show()\n"
      ],
      "metadata": {
        "trusted": true
      },
      "outputs": []
    },
    {
      "cell_type": "code",
      "source": [
        "\"\"\"\n",
        "demo08_3dwireframe.py  三维线框图\n",
        "\"\"\"\n",
        "import numpy as np\n",
        "import matplotlib.pyplot as mp\n",
        "from mpl_toolkits.mplot3d import axes3d\n",
        "\n",
        "n = 1000\n",
        "x, y = np.meshgrid(np.linspace(-3, 3, n),\n",
        "                   np.linspace(-3, 3, n))\n",
        "#  根据一个奇妙的公式算出每个坐标点的高度值z\n",
        "z = (1 - x / 2 + x**5 + y**3) * \\\n",
        "    np.exp(-x**2 - y**2)\n",
        "# 绘制\n",
        "mp.figure('3D Surface', facecolor='lightgray')\n",
        "mp.title('3D Surface')\n",
        "ax3d = mp.gca(projection='3d')\n",
        "ax3d.plot_wireframe(x, y, z, rstride=30,\n",
        "                    cstride=30, cmap='jet', linewidth=1)\n",
        "mp.show()\n"
      ],
      "metadata": {
        "trusted": true
      },
      "outputs": []
    },
    {
      "cell_type": "code",
      "source": [
        "import matplotlib.pyplot as mp\n",
        "mp.figure(\"Polar\", facecolor='lightgray')\n",
        "mp.gca(projection='polar')\n",
        "mp.title('Porlar', fontsize=20)\n",
        "mp.xlabel(r'$\\theta$', fontsize=14)\n",
        "mp.ylabel(r'$\\rho$', fontsize=14)\n",
        "mp.tick_params(labelsize=10)\n",
        "mp.grid(linestyle=':')\n",
        "\n",
        "# 在极坐标系中绘制曲线：\n",
        "t = np.linspace(0, 4*np.pi, 1000)  # 准备数据\n",
        "r = 0.8 * t\n",
        "mp.plot(t, r)\n",
        "\n",
        "# 案例，在极坐标系中绘制正弦函数。 y=3 sin(6x)\n",
        "x = np.linspace(0, 6*np.pi, 1000)\n",
        "y = 3*np.sin(6*x)\n",
        "mp.plot(x, y, color='red')\n",
        "mp.show()\n"
      ],
      "metadata": {
        "trusted": true
      },
      "outputs": []
    },
    {
      "cell_type": "code",
      "source": [
        "import matplotlib.animation as ma\n",
        "#定义更新函数行为\n",
        "def update(number):\n",
        "    pass\n",
        "# 每隔10毫秒执行一次update更新函数，作用于mp.gcf()当前窗口对象\n",
        "# mp.gcf()：    获取当前窗口\n",
        "# update：    更新函数\n",
        "# interval：    间隔时间（单位：毫秒）\n",
        "anim = ma.FuncAnimation(mp.gcf(), update, interval=10)\n",
        "mp.show()\n"
      ],
      "metadata": {
        "trusted": true
      },
      "outputs": []
    },
    {
      "cell_type": "code",
      "source": [
        "import numpy as np\n",
        "import matplotlib.pyplot as mp\n",
        "import matplotlib.animation as ma\n",
        "\n",
        "#自定义一种可以存放在ndarray里的类型，用于保存一个球\n",
        "ball_type = np.dtype([\n",
        "    ('position', float, 2),  # 位置(水平和垂直坐标)\n",
        "    ('size', float, 1),      # 大小\n",
        "    ('growth', float, 1),    # 生长速度\n",
        "    ('color', float, 4)])    # 颜色(红、绿、蓝和透明度)\n",
        "\n",
        "#随机生成100个点对象\n",
        "n = 100\n",
        "balls = np.zeros(100, dtype=ball_type)\n",
        "balls['position'] = np.random.uniform(0, 1, (n, 2))\n",
        "balls['size'] = np.random.uniform(40, 70, n)\n",
        "balls['growth'] = np.random.uniform(10, 20, n)\n",
        "balls['color'] = np.random.uniform(0, 1, (n, 4))\n",
        "\n",
        "mp.figure(\"Animation\", facecolor='lightgray')\n",
        "mp.title(\"Animation\", fontsize=14)\n",
        "mp.xticks([])\n",
        "mp.yticks([])\n",
        "\n",
        "sc = mp.scatter(\n",
        "    balls['position'][:, 0], \n",
        "    balls['position'][:, 1], \n",
        "    balls['size'], \n",
        "    color=balls['color'], alpha=0.5)\n",
        "\n",
        "#定义更新函数行为\n",
        "def update(number):\n",
        "    balls['size'] += balls['growth']\n",
        "    #每次让一个气泡破裂，随机生成一个新的\n",
        "    boom_ind = number % n\n",
        "    balls[boom_ind]['size']=np.random.uniform(40, 70, 1)\n",
        "    balls[boom_ind]['position']=np.random.uniform(0, 1, (1, 2))\n",
        "    # 重新设置属性\n",
        "    sc.set_sizes(balls['size'])\n",
        "    sc.set_offsets(balls['position'])\n",
        "    \n",
        "# 每隔30毫秒执行一次update更新函数，作用于mp.gcf()当前窗口对象\n",
        "# mp.gcf()：    获取当前窗口\n",
        "# update：        更新函数\n",
        "# interval：    间隔时间（单位：毫秒）\n",
        "anim = ma.FuncAnimation(mp.gcf(), update, interval=30)\n",
        "mp.show()  # 触发动画\n"
      ],
      "metadata": {
        "trusted": true
      },
      "outputs": []
    },
    {
      "cell_type": "code",
      "source": [
        "import numpy as np\n",
        "import matplotlib.animation as ma\n",
        "\n",
        "\n",
        "mp.figure(\"Signal\", facecolor='lightgray')\n",
        "mp.title(\"Signal\", fontsize=14)\n",
        "mp.xlim(0, 10)\n",
        "mp.ylim(-3, 3)\n",
        "mp.grid(linestyle='--', color='lightgray', alpha=0.5)\n",
        "pl = mp.plot([], [], color='dodgerblue', label='Signal')[0]\n",
        "\n",
        "x = 0\n",
        "\n",
        "def update(data):\n",
        "    t, v = data\n",
        "    x, y = pl.get_data()\n",
        "    #x是保存x坐标的ndarray对象\n",
        "    #y是保存y坐标的ndarray对象\n",
        "    x = np.append(x, t)\n",
        "    y = np.append(y, v)\n",
        "    #重新设置数据源\n",
        "    pl.set_data(x, y)\n",
        "    #移动坐标轴\n",
        "    if(x[-1]>5):\n",
        "        mp.xlim(x[-1]-5, x[-1]+5)\n",
        "\n",
        "def y_generator():\n",
        "    global x\n",
        "    y = np.sin(2 * np.pi * x) * np.exp(np.sin(0.2 * np.pi * x))\n",
        "    yield (x, y)\n",
        "    x += 0.05\n",
        "\n",
        "anim = ma.FuncAnimation(mp.gcf(), update, y_generator, interval=20)\n",
        "mp.tight_layout()\n",
        "mp.show()\n"
      ],
      "metadata": {
        "trusted": true
      },
      "outputs": []
    },
    {
      "cell_type": "code",
      "source": [
        "import matplotlib.pyplot as plt\n",
        "\n",
        "circles = [\n",
        "    plt.Circle((0, 0), 1, color='#000000', fill=False),\n",
        "    plt.Circle((0, 0), 0.5, color='#000000', fill=True)\n",
        "    ]\n",
        "\n",
        "fig, ax = plt.subplots()\n",
        "\n",
        "plt.xlim(-1.25, 1.25)\n",
        "plt.ylim(-1.25, 1.25)\n",
        "\n",
        "# plt.grid(linestyle='--')\n",
        "ax.set_aspect(1)\n",
        "\n",
        "for circle in circles:\n",
        "    ax.add_artist(circle)\n"
      ],
      "metadata": {
        "trusted": true
      },
      "outputs": []
    },
    {
      "cell_type": "code",
      "source": [
        "import matplotlib.pyplot as mp\n",
        "import matplotlib.gridspec as mg\n",
        "\n",
        "mp.ion()  # 开启一个画图的窗口\n",
        "mp.plot([1,2,3], [2,5,6])\n",
        "mp.figure()\n",
        "mp.plot([1,2,3], [1,3,2])\n",
        "mp.show() # 前台画图窗口\n"
      ],
      "metadata": {
        "trusted": true
      },
      "outputs": []
    }
  ]
}
