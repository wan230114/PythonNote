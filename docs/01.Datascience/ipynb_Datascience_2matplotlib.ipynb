{
  "metadata": {
    "kernelspec": {
      "display_name": "Python 3",
      "language": "python",
      "name": "python3"
    },
    "language_info": {
      "codemirror_mode": {
        "name": "ipython",
        "version": 3
      },
      "file_extension": ".py",
      "mimetype": "text/x-python",
      "name": "python",
      "nbconvert_exporter": "python",
      "pygments_lexer": "ipython3",
      "version": "3.7.9"
    }
  },
  "nbformat": 4,
  "cells": [
    {
      "cell_type": "markdown",
      "source": [
        "# matplotlib概述\n",
        "\n",
        "# 目录\n",
        "\n",
        "* [matplotlib概述](#_matplotlib概述)\n",
        "* [目录](#_目录)\n",
        "* [1. matplotlib概述](#__1-matplotlib概述)\n",
        "  * [1.1. matplotlib基本功能](#_11-matplotlib基本功能)\n",
        "  * [1.2. 包的导入](#_12-包的导入)\n",
        "* [2. matplotlib基本功能详解](#_2-matplotlib基本功能详解)\n",
        "  * [2.1. 基本绘图](#_21-基本绘图)\n",
        "    * [2.1.1. 绘图核心API mp.plot](#_211-绘图核心api-mpplot)\n",
        "    * [2.1.2. 绘制水平线与垂直线 mp.vlines, mp.hlines](#_212-绘制水平线与垂直线-mpvlines-mphlines)\n",
        "    * [2.1.3. 设置坐标轴范围  mp.xlim/mp.ylim](#_213-设置坐标轴范围-mpxlimmpylim)\n",
        "    * [2.1.4. 设置坐标刻度 mp.xticks/mp.yticks](#_214-设置坐标刻度-mpxticksmpyticks)\n",
        "    * [2.1.5. 设置坐标轴 mp.gca().spines().set_...](#_215-设置坐标轴-mpgcaspinesset_)\n",
        "    * [2.1.6. 图例 mp.legend](#_216-图例-mplegend)\n",
        "    * [2.1.7. 特殊点标注绘制 mp.scatter](#_217-特殊点标注绘制-mpscatter)\n",
        "    * [2.1.8. 备注文本 mp.annotate](#_218-备注文本-mpannotate)\n",
        "    * [2.1.9. 绘图案例](#_219-绘图案例)\n",
        "  * [2.2. 图形对象（图形窗口）](#_22-图形对象图形窗口)\n",
        "    * [2.2.1. 图形窗口创建及选择 mp.figure](#_221-图形窗口创建及选择-mpfigure)\n",
        "    * [2.2.2. 设置当前窗口的参数 mp.title/mp.xlabel/mp.tick_params/mp.grid](#_222-设置当前窗口的参数-mptitlempxlabelmptick_paramsmpgrid)\n",
        "    * [2.2.3. 子图](#_223-子图)\n",
        "      * [2.2.3.1. 矩阵式布局 mp.subplot](#_2231-矩阵式布局-mpsubplot)\n",
        "      * [2.2.3.2. 网格式布局 mp.subplot(mg.GridSpec(3, 3)[0, :2])](#_2232-网格式布局-mpsubplotmggridspec3-30-2)\n",
        "      * [2.2.3.3. 自由式布局 mp.axes](#_2233-自由式布局-mpaxes)\n",
        "    * [2.2.4. 刻度定位器 mp.gca().xaxis.set_major_locator()](#_224-刻度定位器-mpgcaxaxisset_major_locator)\n",
        "    * [2.2.5. 刻度网格线 mp.gca().grid()](#_225-刻度网格线-mpgcagrid)\n",
        "    * [2.2.6. 半对数坐标 mp.semilogy](#_226-半对数坐标-mpsemilogy)\n",
        "    * [2.2.7. 散点图 mp.scatter](#_227-散点图-mpscatter)\n",
        "    * [2.2.8. 填充 mp.fill_between](#_228-填充-mpfill_between)\n",
        "    * [2.2.9. 条形图（柱状图） mp.bar](#_229-条形图柱状图-mpbar)\n",
        "    * [2.2.10. 饼图 mp.axis, mp.pie](#_2210-饼图-mpaxis-mppie)\n",
        "    * [2.2.11. 等高线图 mp.clabel(mp.contour)](#_2211-等高线图-mpclabelmpcontour)\n",
        "    * [2.2.12. 热成像图 mp.imshow, mp.colorbar](#_2212-热成像图-mpimshow-mpcolorbar)\n",
        "    * [2.2.13. 3D图像绘制 mp.gca(projection='3d')](#_2213-3d图像绘制-mpgcaprojection3d)\n",
        "      * [2.2.13.1. 3D点阵绘制 ax.scatter](#_22131-3d点阵绘制-axscatter)\n",
        "      * [2.2.13.2. 3D曲面绘制 ax.plot_surface](#_22132-3d曲面绘制-axplot_surface)\n",
        "      * [2.2.13.3. 3D线框图 ax.plot_wireframe](#_22133-3d线框图-axplot_wireframe)\n",
        "    * [2.2.14. 极坐标系 mp.gca(projection='polar')](#_2214-极坐标系-mpgcaprojectionpolar)\n",
        "    * [2.2.15. 简单动画 ma.FuncAnimation(mp.gcf(), func, interval=10)](#_2215-简单动画-mafuncanimationmpgcf-func-interval10)\n",
        "\n",
        "\n",
        "---\n",
        "# 1. matplotlib概述\n",
        "\n",
        "`matplotlib`是python的一个绘图库。使用它可以很方便的绘制出版质量级别的图形。\n",
        "\n",
        "在这基础上，有二次封装开发，或模仿的包，以下还例举了一些其他的可视化工具：\n",
        "- `pyecharts`。支持多达400+地图；支持Jupyter Notebook、JupyterLab；可轻松集成至 Flask，Sanic，Django 等主流 Web 框架\n",
        "- `AutoViz`。数据可视化，大多数都需要把数据读取到内存中，然后对内存中的数据进行可视化。但是，对于真正令人头疼的是一次又一次的开发读取离线文件的数据接口。而AutoViz就是用于解决这个痛点的，它真正的可以做到1行代码轻松实现可视化。它可以同时兼容txt、json、csv等主流离线数据格式，比较适合于机器学习、计算机视觉等涉及离线数据较多的应用场景。\n",
        "- `Altair`。一款基于Vega 和Vega-Lite开发的统计可视化库。Altair构建在强大的Vega-Lite JSON规范之上，并且具有API简单、友好、一致等诸多优点。\n",
        "\n",
        "## matplotlib起源和发展\n",
        "\n",
        "- 一些优秀的拓展包：\n",
        "  - `Seaborn`：是matplotlib的强大的一个扩展，可以让代码更加简洁，绘图更加丰富。\n",
        "\n",
        "## 1.1. matplotlib基本功能\n",
        "\n",
        "    1. 基本绘图 （在二维平面坐标系中绘制连续的线）\n",
        "       1. 设置线型、线宽和颜色  \n",
        "       2. 设置坐标轴范围\n",
        "       3. 设置坐标刻度\n",
        "       4. 设置坐标轴\n",
        "       5. 图例\n",
        "       6. 特殊点****\n",
        "       7. 备注\n",
        "    2. 图形对象(图形窗口)~~~~\n",
        "       1. 子图\n",
        "       2. 刻度定位器\n",
        "       3. 刻度网格线\n",
        "       4. 半对数坐标\n",
        "       5. 散点图\n",
        "       6. 填充\n",
        "       7. 条形图\n",
        "       8. 饼图\n",
        "       9. 等高线图\n",
        "       10. 热成像图\n",
        "       11. 极坐标系\n",
        "       12. 三维曲面\n",
        "       13. 简单动画\n",
        "\n",
        "包的导入: `import matplotlib.pyplot as mp`\n",
        "\n",
        "# 2. matplotlib基本功能详解\n",
        "\n",
        "## 2.1. 基本绘图\n",
        "\n",
        "### 2.1.1. 绘图核心API mp.plot\n",
        "\n",
        "绘制一条折线\n",
        "\n"
      ],
      "metadata": {}
    },
    {
      "cell_type": "code",
      "source": [
        "# 绘制一条折线\n",
        "import matplotlib.pyplot as mp\n",
        "xarray = [0, 2, 3]  # xarray: <序列> 水平坐标序列\n",
        "yarray = [0, 2, 4]  # yarray: <序列> 垂直坐标序列\n",
        "mp.plot(xarray, yarray)\n",
        "mp.show()  # 显示图表\n"
      ],
      "metadata": {
        "trusted": true
      },
      "outputs": []
    },
    {
      "cell_type": "markdown",
      "source": [
        "\n",
        "线型、线宽和\n"
      ],
      "metadata": {}
    },
    {
      "cell_type": "code",
      "source": [
        "import matplotlib.pyplot as mp\n",
        "# linestyle: '-' 实线  '--' 虚线  ':' 点线\n",
        "# linewidth: 线宽 (数字)\n",
        "# color: <关键字参数> 颜色\n",
        "#        英文颜色单词 或 常见颜色英文单词首字母 或 #495434 或 (1,1,1) 或 (1,1,1,1)\n",
        "# alpha: <关键字参数> 透明度\n",
        "#        浮点数值\n",
        "xarray = [1, 4, 8, 10]\n",
        "yarray = [4, 1, 3, 9]\n",
        "# \":\"   0.7透明度  3倍线宽   颜色red\n",
        "mp.plot(xarray, yarray, linestyle='-', linewidth=3, color='red', alpha=0.7)\n",
        "mp.show()\n"
      ],
      "metadata": {
        "trusted": true
      },
      "outputs": []
    },
    {
      "cell_type": "markdown",
      "source": [
        "\n",
        "\n",
        "### 2.1.2. 绘制水平线与垂直线 mp.vlines, mp.hlines\n",
        "\n"
      ],
      "metadata": {}
    },
    {
      "cell_type": "code",
      "source": [
        "import matplotlib.pyplot as mp\n",
        "# x轴起点，y轴起点，y轴终点\n",
        "mp.vlines(8, 2, 10)  # vertical 绘制垂直线  mp.vlines(vval, ymin, ymax, ...)\n",
        "# y轴起点，x轴起点，x轴终点\n",
        "mp.hlines(5, 2, 12)  # horizotal 绘制水平线  mp.hlines(xval, xmin, xmax, ...)\n",
        "mp.show()  #显示图表\n"
      ],
      "metadata": {
        "trusted": true
      },
      "outputs": []
    },
    {
      "cell_type": "markdown",
      "source": [
        "\n",
        "### 2.1.3. 设置坐标轴范围  mp.xlim/mp.ylim\n",
        "\n",
        "案例：把坐标轴范围设置为 -π ~ π\n",
        "\n"
      ],
      "metadata": {}
    },
    {
      "cell_type": "code",
      "source": [
        "import matplotlib.pyplot as mp\n",
        "# x_limt_min / x_limit_max: <float> x轴范围最小值/x轴范围最大值\n",
        "# y_limt_min / y_limit_max: <float> y轴范围最小值，y轴范围最大值\n",
        "y_limt_min, y_limit_max = -2, 14\n",
        "x_limt_min, x_limit_max = 0, 10\n",
        "mp.xlim(x_limt_min, x_limit_max)\n",
        "mp.ylim(y_limt_min, y_limit_max)\n",
        "mp.show()\n"
      ],
      "metadata": {
        "trusted": true
      },
      "outputs": []
    },
    {
      "cell_type": "markdown",
      "source": [
        "\n",
        "### 2.1.4. 设置坐标刻度 mp.xticks/mp.yticks\n",
        "\n",
        "案例：把横坐标的刻度显示为：0, π/2, π, 3π/2, 2π\n",
        "\n"
      ],
      "metadata": {}
    },
    {
      "cell_type": "code",
      "source": [
        "import matplotlib.pyplot as mp\n",
        "# x_val_list:  x轴刻度值序列, x_text_list: x轴刻度标签文本序列 [可选]\n",
        "# y_val_list:  y轴刻度值序列, y_text_list: y轴刻度标签文本序列 [可选]\n",
        "mp.xticks([1, 2, 3, 4, 5], list(\"ABCDE\") )\n",
        "mp.yticks([1, 2, 3, 4, 5], list(\"ABCDE\") )\n",
        "mp.show()\n"
      ],
      "metadata": {
        "trusted": true
      },
      "outputs": []
    },
    {
      "cell_type": "markdown",
      "source": [
        "\n",
        "### 2.1.5. 设置坐标轴 mp.gca().spines().set_...\n",
        "\n",
        "坐标轴名：left / right / bottom / top\n",
        "\n"
      ],
      "metadata": {}
    },
    {
      "cell_type": "code",
      "source": [
        "import matplotlib.pyplot as mp\n",
        "# 获取当前坐标轴字典，{'left':左轴,'right':右轴,'bottom':下轴,'top':上轴 }\n",
        "ax = mp.gca()\n",
        "# 获取其中某个坐标轴\n",
        "axis = ax.spines['left']  # 坐标轴名：left, right, bottom, top\n",
        "axis.set_position(('data', 0))\n",
        "# 设置坐标轴的位置。 该方法需要传入2个元素的元组作为参数\n",
        "    # type: <str> 移动坐标轴的参照类型  一般为'data' (以数据的值作为移动参照值)\n",
        "    # val:  参照值\n",
        "# 设置坐标轴的颜色\n",
        "axis.set_color('red')  # color: <str> 颜色值字符串\n",
        "mp.yticks([-1, -0.5, 0.5, 1])\n",
        "mp.xticks([-2, -1, 1, 2])\n",
        "mp.show()\n"
      ],
      "metadata": {
        "trusted": true
      },
      "outputs": []
    },
    {
      "cell_type": "markdown",
      "source": [
        "\n",
        "案例：设置坐标轴至中心。\n",
        "\n"
      ],
      "metadata": {}
    },
    {
      "cell_type": "code",
      "source": [
        "import matplotlib.pyplot as mp\n",
        "# 设置坐标轴, 设置顶部右侧线条为无, 设置右下居右\n",
        "ax = mp.gca()\n",
        "ax.spines['top'].set_color('none')\n",
        "ax.spines['right'].set_color('none')\n",
        "ax.spines['left'].set_position(('data', 0))\n",
        "ax.spines['bottom'].set_position(('data', 0))\n",
        "ax.spines['bottom'].set_color('red')\n",
        "mp.yticks([-1, -0.5, 0.5, 1])\n",
        "mp.xticks([-1, -0.5, 0.5, 1])\n",
        "mp.show()\n"
      ],
      "metadata": {
        "trusted": true
      },
      "outputs": []
    },
    {
      "cell_type": "markdown",
      "source": [
        "\n",
        "### 2.1.6. 图例 mp.legend\n",
        "\n",
        "显示两条曲线的图例，并测试loc属性。\n",
        "\n"
      ],
      "metadata": {}
    },
    {
      "cell_type": "code",
      "source": [
        "import matplotlib.pyplot as mp\n",
        "# 再绘制曲线时定义曲线的label\n",
        "\n",
        "# label: <关键字参数 str> 支持LaTex排版语法字符串\n",
        "xarray = [0,  2,  4]\n",
        "yarray = [0,  1,  2]\n",
        "mp.plot(xarray, yarray)\n",
        "# label 定义曲线名称，为后续显示图例准备\n",
        "mp.plot(xarray, yarray, label=r'$y=\\frac{1}{2}x$')\n",
        "# loc 设置图例\n",
        "mp.legend(loc='best')\n",
        "mp.show()\n"
      ],
      "metadata": {
        "trusted": true
      },
      "outputs": []
    },
    {
      "cell_type": "markdown",
      "source": [
        "```\n",
        "设置图例的位置\n",
        "loc: <关键字参数> 制定图例的显示位置 (若不设置loc，则显示默认位置)\n",
        "     ===============   =============\n",
        "   Location String   Location Code\n",
        "   ===============   =============\n",
        "   'best'            0\n",
        "   'upper right'     1\n",
        "   'upper left'      2\n",
        "   'lower left'      3\n",
        "   'lower right'     4\n",
        "   'right'           5\n",
        "   'center left'     6\n",
        "   'center right'    7\n",
        "   'lower center'    8\n",
        "   'upper center'    9\n",
        "   'center'          10\n",
        "   ===============   =============\n",
        "```\n",
        "\n",
        "***刻度文本的特殊语法*** -- *LaTex排版语法字符串*\n",
        "\n",
        "注：<font color=\"#FF0000\">红色文字</font>为Python语法：\n",
        "\n",
        "<center>\n",
        "<font color=\"#FF0000\" face='consolas'>\n",
        "r'$x^n+y^n=z^n$'\n",
        "</font>\n",
        "</center>\n",
        "\n",
        "$$\n",
        "x^n+y^n=z^n\n",
        "$$\n",
        "\n",
        "<center>\n",
        "<font color=\"#FF0000\" face='consolas'>\n",
        "r'$\\int\\frac{1}{x} dx = \\ln |x| + C$',\n",
        "</font>\n",
        "</center>\n",
        "\n",
        "$$\n",
        "\\int\\frac{1}{x} dx = \\ln |x| + C\n",
        "$$\n",
        "\n",
        "<center>\n",
        "<font color=\"#FF0000\" face='consolas'>\n",
        "r'$-\\frac{\\pi}{2}$'\n",
        "</font>\n",
        "</center>\n",
        "\n",
        "$$\n",
        " -\\frac{\\pi}{2}\n",
        "$$\n",
        "\n",
        "### 2.1.7. 特殊点标注绘制 mp.scatter\n",
        "\n",
        "案例：绘制当x=3π/4时两条曲线上的特殊点。\n",
        "\n"
      ],
      "metadata": {}
    },
    {
      "cell_type": "code",
      "source": [
        "import matplotlib.pyplot as mp\n",
        "# xarray: <序列> 所有需要标注点的水平坐标组成的序列\n",
        "# yarray: <序列> 所有需要标注点的垂直坐标组成的序列\n",
        "xarray = [1, 2, 3, 4]\n",
        "yarray = [3, 1, 2, 4]\n",
        "mp.scatter(xarray, yarray, \n",
        "           marker='o',         #点型 ~ matplotlib.markers\n",
        "           s=60,             #大小\n",
        "           edgecolor='red',     #边缘色\n",
        "           facecolor='orange',    #填充色\n",
        "           zorder=3            #绘制图层编号 （编号越大，图层越靠上）\n",
        ")\n",
        "mp.show()\n"
      ],
      "metadata": {
        "trusted": true
      },
      "outputs": []
    },
    {
      "cell_type": "markdown",
      "source": [
        "\n",
        "*marker点型可参照：help(matplotlib.markers)*\n",
        "\n",
        "*也可参照附录： matplotlib point样式*\n",
        "\n",
        "\n",
        "\n",
        "### 2.1.8. 备注文本 mp.annotate\n",
        "\n",
        "案例：为在某条曲线上的点添加备注，指明函数方程与值。\n",
        "\n"
      ],
      "metadata": {}
    },
    {
      "cell_type": "code",
      "source": [
        "import matplotlib.pyplot as mp\n",
        "# 在图表中为某个点添加备注。包含备注文本，备注箭头等图像的设置。\n",
        "import numpy as np\n",
        "mp.annotate(\n",
        "    r'$(\\frac{\\pi}{4}, 5)$',    #备注中显示的文本内容\n",
        "    xycoords='data',            #备注目标点所使用的坐标系（data表示数据坐标系）\n",
        "    xy=(np.pi/4, 0.5),            #备注目标点的坐标\n",
        "    textcoords='offset points',    #备注文本所使用的坐标系（offset points表示参照点的偏移坐标系）\n",
        "    xytext=(30, 20),            #备注文本的坐标\n",
        "    fontsize=14,                #备注文本的字体大小\n",
        "    arrowprops=dict(  #arrowprops字典参数的常用key\n",
        "        arrowstyle='->', #定义箭头样式\n",
        "        connectionstyle='angle3' #定义连接线的样式\n",
        "        ) \n",
        "    #使用字典定义文本指向目标点的箭头样式\n",
        ")\n",
        "mp.show()\n"
      ],
      "metadata": {
        "trusted": true
      },
      "outputs": []
    },
    {
      "cell_type": "markdown",
      "source": [
        "\n",
        "**arrowprops参数** 使用字典定义指向目标点的箭头样式\n",
        "\n",
        "箭头样式（arrowstyle）字符串如下\n",
        "\n",
        "```\n",
        "============   =============================================\n",
        "Name           Attrs\n",
        "============   =============================================\n",
        "  '-'          None\n",
        "  '->'         head_length=0.4,head_width=0.2\n",
        "  '-['         widthB=1.0,lengthB=0.2,angleB=None\n",
        "  '|-|'        widthA=1.0,widthB=1.0\n",
        "  '-|>'        head_length=0.4,head_width=0.2\n",
        "  '<-'         head_length=0.4,head_width=0.2\n",
        "  '<->'        head_length=0.4,head_width=0.2\n",
        "  '<|-'        head_length=0.4,head_width=0.2\n",
        "  '<|-|>'      head_length=0.4,head_width=0.2\n",
        "  'fancy'      head_length=0.4,head_width=0.4,tail_width=0.4\n",
        "  'simple'     head_length=0.5,head_width=0.5,tail_width=0.2\n",
        "  'wedge'      tail_width=0.3,shrink_factor=0.5\n",
        "============   =============================================\n",
        "\n",
        "```\n",
        "\n",
        "连接线样式（connectionstyle）字符串如下\n",
        "\n",
        "```\n",
        "============   =============================================\n",
        "Name           Attrs\n",
        "============   =============================================\n",
        "  'angle'         angleA=90,angleB=0,rad=0.0\n",
        "  'angle3'         angleA=90,angleB=0`   \n",
        "  'arc'            angleA=0,angleB=0,armA=None,armB=None,rad=0.0\n",
        "  'arc3'         rad=0.0\n",
        "  'bar'         armA=0.0,armB=0.0,fraction=0.3,angle=None\n",
        "============   =============================================\n",
        "\n",
        "```\n",
        "\n",
        "### 2.1.9. 绘图案例\n"
      ],
      "metadata": {}
    },
    {
      "cell_type": "code",
      "source": [
        "\"\"\"\n",
        "demo02_plot.py  基本绘图案例\n",
        "\"\"\"\n",
        "import matplotlib.pyplot as mp\n",
        "import numpy as np\n",
        "\n",
        "# 绘制正弦图像\n",
        "# 从0到2π区间拆1000个点\n",
        "x = np.linspace(-np.pi, np.pi, 1000)\n",
        "y = np.sin(x)\n",
        "mp.plot(x, y, linestyle='--', alpha=0.7,\n",
        "    linewidth=2, color='dodgerblue', \n",
        "    label=r'$y=sin(x)$')\n",
        "# 绘制一条余弦曲线 y=1/2 * cos(x)  \n",
        "# \":\"   0.7透明度  3倍线宽   颜色orangered\n",
        "y2 = np.cos(x) / 2\n",
        "mp.plot(x, y2, linestyle=':', alpha=0.7,\n",
        "    linewidth=3, color='orangered',\n",
        "    label=r'$y=\\frac{1}{2} cos(x)$')\n",
        "\n",
        "# 修改可视区域\n",
        "# mp.xlim(0, np.pi)\n",
        "# mp.ylim(0, 1)\n",
        "\n",
        "# 修改x坐标轴刻度\n",
        "xvals = [-np.pi, -np.pi/2, 0, np.pi/2, np.pi]\n",
        "xtexts = [r'$-\\pi$',r'$-\\frac{\\pi}{2}$',r'$0$',\n",
        "          r'$\\frac{\\pi}{2}$',r'$\\pi$']\n",
        "mp.xticks(xvals, xtexts)\n",
        "\n",
        "# 设置坐标轴\n",
        "ax = mp.gca()\n",
        "ax.spines['top'].set_color('none')\n",
        "ax.spines['right'].set_color('none')\n",
        "ax.spines['left'].set_position(('data', 0))\n",
        "ax.spines['bottom'].set_position(('data', 0))\n",
        "mp.yticks([-1, -0.5, 0.5, 1])\n",
        "\n",
        "# 绘制两个特殊点\n",
        "px = [np.pi/2, np.pi/2]\n",
        "py = [0, 1]\n",
        "mp.scatter(px, py, marker='o', s=70,\n",
        "    color='red', label='Points', \n",
        "    zorder=3)\n",
        "\n",
        "# 绘制点的备注\n",
        "mp.annotate(r'$[\\frac{\\pi}{2}, 1]$', \n",
        "    xycoords='data',\n",
        "    xy=(np.pi/2, 1),\n",
        "    textcoords='offset points',\n",
        "    xytext=(30, 20),\n",
        "    fontsize=14,\n",
        "    arrowprops=dict(\n",
        "        arrowstyle='->',\n",
        "        connectionstyle='angle3'\n",
        "    )\n",
        ")\n",
        "\n",
        "\n",
        "mp.annotate(r'$[\\frac{\\pi}{2}, 0]$', \n",
        "    xycoords='data',\n",
        "    xy=(np.pi/2, 0),\n",
        "    textcoords='offset points',\n",
        "    xytext=(-50, -50),\n",
        "    fontsize=14,\n",
        "    arrowprops=dict(\n",
        "        arrowstyle='->',\n",
        "        connectionstyle='angle3'\n",
        "    )\n",
        ")\n",
        "\n",
        "# 显示图例\n",
        "mp.legend(loc='best')\n",
        "mp.show()\n"
      ],
      "metadata": {
        "trusted": true
      },
      "outputs": []
    },
    {
      "cell_type": "markdown",
      "source": [
        "\n",
        "\n",
        "## 2.2. 图形对象（图形窗口）\n",
        "\n",
        "### 2.2.1. 图形窗口创建及选择 mp.figure\n",
        "\n",
        "案例：绘制两个窗口，一起显示。\n"
      ],
      "metadata": {}
    },
    {
      "cell_type": "code",
      "source": [
        "import matplotlib.pyplot as mp\n",
        "# 手动构建 matplotlib 窗口\n",
        "mp.figure(\n",
        "    '文本1',            #窗口标题栏文本\n",
        "    figsize=(4, 3),        #窗口大小 <元组>\n",
        "    dpi=120,            #像素密度\n",
        "    facecolor='green'    #图表背景色\n",
        ")\n",
        "mp.show()\n"
      ],
      "metadata": {
        "trusted": true
      },
      "outputs": []
    },
    {
      "cell_type": "markdown",
      "source": [
        "mp.figure方法不仅可以构建一个新窗口，如果已经构建过title='A'的窗口，又使用figure方法构建了title='A' 的窗口的话，mp将不会创建新的窗口，而是把title='A'的窗口置为当前操作窗口。\n",
        "\n",
        "\n",
        "### 2.2.2. 设置当前窗口的参数 mp.title/mp.xlabel/mp.tick_params/mp.grid\n",
        "\n",
        "案例：测试窗口相关参数\n",
        "\n"
      ],
      "metadata": {}
    },
    {
      "cell_type": "code",
      "source": [
        "import matplotlib.pyplot as mp\n",
        "# 1) 设置图表标题 显示在图表上方\n",
        "mp.title('title', fontsize=12)\n",
        "# 2) 设置水平轴的文本\n",
        "mp.xlabel('x_label_str', fontsize=12)\n",
        "# 3) 设置垂直轴的文本\n",
        "mp.ylabel('y_label_str', fontsize=12)\n",
        "# 4) 设置刻度参数   labelsize设置刻度字体大小\n",
        "mp.tick_params(labelsize=8)\n",
        "# 5) 设置图表网格线  linestyle设置网格线的样式\n",
        "    #    -  or solid 粗线\n",
        "    #   -- or dashed 虚线\n",
        "    #   -. or dashdot 点虚线\n",
        "    #   :  or dotted 点线\n",
        "mp.grid(linestyle=':')\n",
        "# 6) 设置紧凑布局\n",
        "mp.tight_layout() \n",
        "mp.show()\n"
      ],
      "metadata": {
        "trusted": true
      },
      "outputs": []
    },
    {
      "cell_type": "markdown",
      "source": [
        "\n",
        "示例：\n"
      ],
      "metadata": {}
    },
    {
      "cell_type": "code",
      "source": [
        "\"\"\"\n",
        "demo03_figure.py  窗口相关测试\n",
        "\"\"\"\n",
        "import matplotlib.pyplot as mp\n",
        "mp.figure('Figure Title A',\n",
        "          facecolor='lightgray')\n",
        "mp.figure('Figure Title B',\n",
        "          facecolor='lightblue')\n",
        "def fig(s):\n",
        "    mp.figure('Figure Title %s' % s)  # 切换操作窗口\n",
        "    mp.title('Title %s' % s, fontsize=18)\n",
        "    mp.xlabel('Time %s' % s, fontsize=14)\n",
        "    mp.ylabel('Price %s' % s, fontsize=14)\n",
        "    mp.tick_params(labelsize=10)\n",
        "    mp.grid(linestyle=':')\n",
        "    mp.tight_layout()  # 窗口内容紧凑布局\n",
        "fig('A')\n",
        "fig('B')\n",
        "mp.show()\n"
      ],
      "metadata": {
        "trusted": true
      },
      "outputs": []
    },
    {
      "cell_type": "markdown",
      "source": [
        "\n",
        "\n",
        "### 2.2.3. 子图\n",
        "\n",
        "#### 2.2.3.1. 矩阵式布局 mp.subplot\n",
        "\n",
        "绘制矩阵式子图布局相关API：\n",
        "\n"
      ],
      "metadata": {}
    },
    {
      "cell_type": "code",
      "source": [
        "import matplotlib.pyplot as mp\n",
        "mp.figure('Subplot Layout', facecolor='lightgray')\n",
        "# 拆分矩阵\n",
        "    # rows:    行数\n",
        "    # cols:    列数\n",
        "    # num:    编号\n",
        "# mp.subplot(rows, cols, num)\n",
        "mp.subplot(3, 3, 1)\n",
        "mp.subplot(3, 3, 3)\n",
        "    #    1 2 3\n",
        "    #    4 5 6\n",
        "    #    7 8 9 \n",
        "mp.subplot(3, 3, 5)        #操作3*3的矩阵中编号为5的子图\n",
        "mp.subplot(336)            #简写\n",
        "mp.show()\n"
      ],
      "metadata": {
        "trusted": true
      },
      "outputs": []
    },
    {
      "cell_type": "markdown",
      "source": [
        "\n",
        "案例：绘制9宫格矩阵式子图，每个子图中写一个数字。\n",
        "\n"
      ],
      "metadata": {}
    },
    {
      "cell_type": "code",
      "source": [
        "\"\"\"\n",
        "demo04_subplot.py  矩阵式子图\n",
        "\"\"\"\n",
        "import matplotlib.pyplot as mp\n",
        "mp.figure('Subplot', facecolor='lightgray')\n",
        "for i in range(1, 10):\n",
        "    mp.subplot(3, 3, i)\n",
        "    mp.text(0.5, 0.5, i, ha='center', \n",
        "            va='center', size=36, alpha=0.7)\n",
        "    mp.xticks([])\n",
        "    mp.yticks([])\n",
        "mp.tight_layout()\n",
        "mp.show()\n"
      ],
      "metadata": {
        "trusted": true
      },
      "outputs": []
    },
    {
      "cell_type": "markdown",
      "source": [
        "\n",
        "#### 2.2.3.2. 网格式布局 mp.subplot(mg.GridSpec(3, 3)[0, :2])\n",
        "\n",
        "网格式布局支持单元格的合并。\n",
        "\n",
        "绘制网格式子图布局相关API：\n",
        "\n"
      ],
      "metadata": {}
    },
    {
      "cell_type": "code",
      "source": [
        "import matplotlib.pyplot as mp\n",
        "import matplotlib.gridspec as mg\n",
        "mp.figure('Grid Layout', facecolor='lightgray')\n",
        "\n",
        "# 调用GridSpec方法拆分网格式布局\n",
        "# rows:    行数\n",
        "# cols:    列数\n",
        "# gs = mg.GridSpec(rows, cols)    拆分成3行3列\n",
        "gs = mg.GridSpec(3, 3)\n",
        "\n",
        "# 合并0行与0、1列为一个子图表\n",
        "mp.subplot(gs[0, :2])\n",
        "mp.text(0.5, 0.5, '1', ha='center', va='center', size=36)\n",
        "mp.show()\n"
      ],
      "metadata": {
        "trusted": true
      },
      "outputs": []
    },
    {
      "cell_type": "markdown",
      "source": [
        "\n",
        "案例：绘制一个自定义网格布局。\n",
        "\n"
      ],
      "metadata": {}
    },
    {
      "cell_type": "code",
      "source": [
        "\"\"\"\n",
        "demo05_gridsubplot.py  网格式子图布局\n",
        "\"\"\"\n",
        "import matplotlib.pyplot as mp\n",
        "import matplotlib.gridspec as mg\n",
        "\n",
        "mp.ion()  # 开启一个画图的窗口\n",
        "mp.show()\n",
        "mp.figure('Grid Subplot', facecolor='lightgray')\n",
        "gs = mg.GridSpec(3, 3)\n",
        "mp.subplot(gs[0, :2])\n",
        "mp.text(0.5, 0.5, 1, ha='center', \n",
        "        va='center', size=36, alpha=0.7)\n",
        "mp.xticks([])\n",
        "mp.yticks([])\n",
        "\n",
        "mp.subplot(gs[:2, -1])\n",
        "mp.text(0.5, 0.5, 2, ha='center', \n",
        "        va='center', size=36, alpha=0.7)\n",
        "mp.xticks([])\n",
        "mp.yticks([])\n",
        "\n",
        "mp.subplot(gs[1, 1])\n",
        "mp.text(0.5, 0.5, 3, ha='center', \n",
        "        va='center', size=36, alpha=0.7)\n",
        "mp.xticks([])\n",
        "mp.yticks([])\n",
        "\n",
        "mp.subplot(gs[1:, 0])\n",
        "mp.text(0.5, 0.5, 4, ha='center', \n",
        "        va='center', size=36, alpha=0.7)\n",
        "mp.xticks([])\n",
        "mp.yticks([])\n",
        "\n",
        "mp.subplot(gs[-1, 1:])\n",
        "mp.text(0.5, 0.5, 5, ha='center', \n",
        "        va='center', size=36, alpha=0.7)\n",
        "mp.xticks([])\n",
        "mp.yticks([])\n",
        "\n",
        "mp.tight_layout()\n",
        "mp.show()\n"
      ],
      "metadata": {
        "trusted": true
      },
      "outputs": []
    },
    {
      "cell_type": "markdown",
      "source": [
        "\n",
        "#### 2.2.3.3. 自由式布局 mp.axes\n",
        "\n",
        "自由式布局相关API：\n",
        "\n"
      ],
      "metadata": {}
    },
    {
      "cell_type": "code",
      "source": [
        "import matplotlib.pyplot as mp\n",
        "# 设置图标的位置，给出左下角点坐标与宽高即可\n",
        "# left_bottom_x: 左下角点x坐标\n",
        "# left_bottom_y: 左下角点y坐标\n",
        "# width:         宽度\n",
        "# height:         高度\n",
        "# mp.axes([left_bottom_x, left_bottom_y, width, height])\n",
        "mp.figure('Flow Layout', facecolor='lightgray')\n",
        "mp.axes([0.2, 0.5, 0.3, 0.4])\n",
        "mp.text(0.5, 0.5, '1', ha='center', va='center', size=36)\n",
        "mp.show()\n"
      ],
      "metadata": {
        "trusted": true
      },
      "outputs": []
    },
    {
      "cell_type": "markdown",
      "source": [
        "\n",
        "### 2.2.4. 刻度定位器 mp.gca().xaxis.set_major_locator()\n",
        "\n",
        "刻度定位器相关API：\n",
        "\n"
      ],
      "metadata": {}
    },
    {
      "cell_type": "code",
      "source": [
        "import matplotlib.pyplot as mp\n",
        "# 获取当前坐标轴\n",
        "ax = mp.gca()\n",
        "# 设置水平坐标轴的主刻度定位器\n",
        "ax.xaxis.set_major_locator(mp.NullLocator())\n",
        "# 设置水平坐标轴的次刻度定位器为多点定位器，间隔0.1\n",
        "ax.xaxis.set_minor_locator(mp.MultipleLocator(0.1))\n"
      ],
      "metadata": {
        "trusted": true
      },
      "outputs": []
    },
    {
      "cell_type": "markdown",
      "source": [
        "常用刻度器如下\n",
        "\n",
        "| 刻度器                                     | 解释                                                       |\n",
        "| ------------------------------------------ | ---------------------------------------------------------- |\n",
        "| mp.NullLocator()                           | 空定位器: 不绘制刻度                                       |\n",
        "| mp.MaxNLocator(nbins=3)                    | 最大值定位器: 最多绘制nbins+1个刻度                        |\n",
        "| mp.FixedLocator(locs=[0, 2.5, 5, 7.5, 10]) | 定点定位器: 根据locs参数中的位置绘制刻度                   |\n",
        "| mp.AutoLocator()                           | 自动定位器: 由系统自动选择刻度的绘制位置                   |\n",
        "| mp.IndexLocator(offset=0.5, base=1.5)      | 索引定位器: 由offset确定起始刻度，由base确定相邻刻度的间隔 |\n",
        "| mp.MultipleLocator()                       | 多点定位器: 从0开始，按照参数指定的间隔(缺省1)绘制刻度     |\n",
        "| mp.LinearLocator(numticks=21)              | 线性定位器: 等分numticks-1份，绘制numticks个刻度           |\n",
        "| mp.LogLocator(base=2)                      | 对数定位器: 以base为底，绘制刻度                           |\n",
        "\n",
        "案例：绘制一个数轴。\n",
        "\n"
      ],
      "metadata": {}
    },
    {
      "cell_type": "code",
      "source": [
        "import matplotlib.pyplot as mp\n",
        "mp.figure('Locators', facecolor='lightgray')\n",
        "# 获取当前坐标轴\n",
        "ax = mp.gca()\n",
        "# 隐藏除底轴以外的所有坐标轴, 将底坐标轴调整到子图中心位置\n",
        "ax.spines['left'].set_color('none')\n",
        "ax.spines['top'].set_color('none')\n",
        "ax.spines['right'].set_color('none')\n",
        "ax.spines['bottom'].set_position(('data', 0))\n",
        "# 设置水平坐标轴的主刻度定位器\n",
        "ax.xaxis.set_major_locator(mp.NullLocator())\n",
        "# 设置水平坐标轴的次刻度定位器为多点定位器，间隔0.1\n",
        "ax.xaxis.set_minor_locator(mp.MultipleLocator(0.1))\n",
        "# 标记所用刻度定位器类名\n",
        "mp.text(5, 0.3, 'NullLocator()', ha='center', size=12)\n",
        "mp.show()\n"
      ],
      "metadata": {
        "trusted": true
      },
      "outputs": []
    },
    {
      "cell_type": "markdown",
      "source": [
        "\n",
        "案例：使用for循环测试刻度器样式：\n",
        "\n"
      ],
      "metadata": {}
    },
    {
      "cell_type": "code",
      "source": [
        "\"\"\"\n",
        "demo07_locators.py  刻度定位器\n",
        "\"\"\"\n",
        "import matplotlib.pyplot as mp\n",
        "import numpy as np\n",
        "locators = ['mp.NullLocator()', \n",
        "            'mp.MultipleLocator(2)', \n",
        "            'mp.MaxNLocator(nbins=4)']\n",
        "mp.figure('Locators', facecolor='lightgray')\n",
        "for i, locator in enumerate(locators):\n",
        "    mp.subplot(len(locators), 1, i+1)\n",
        "    ax = mp.gca()\n",
        "    # ax.spines['left'].set_color('none')\n",
        "    ax.spines['top'].set_color('none')\n",
        "    ax.spines['right'].set_color('none')\n",
        "    mp.ylim(-1, 1)\n",
        "    mp.xlim(1, 10)\n",
        "    ax.spines['bottom'].set_position(('data', 0))\n",
        "    # 设置主刻度定位器 与 次刻度定位器\n",
        "    maloc = eval(locator)\n",
        "    ax.xaxis.set_major_locator(maloc)\n",
        "    miloc = mp.MultipleLocator(0.1)\n",
        "    ax.xaxis.set_minor_locator(miloc)\n",
        "mp.show()\n"
      ],
      "metadata": {
        "trusted": true
      },
      "outputs": []
    },
    {
      "cell_type": "markdown",
      "source": [
        "\n",
        "\n",
        "### 2.2.5. 刻度网格线 mp.gca().grid()\n",
        "\n",
        "绘制刻度网格线的相关API：\n",
        "```\n",
        "ax = mp.gca()\n",
        "#绘制刻度网格线\n",
        "ax.grid(\n",
        "    which='',       # 'major'/'minor' <-> '主刻度'/'次刻度' \n",
        "    axis='',        # 'x'/'y'/'both' <-> 绘制x或y轴\n",
        "    linewidth=1,    # 线宽\n",
        "    linestyle='',   # 线型\n",
        "    color='',       # 颜色\n",
        "    alpha=0.5       # 透明度\n",
        ")\n",
        "```\n",
        "\n",
        "案例：绘制曲线 [1, 10, 100, 1000, 100, 10, 1]，然后设置刻度网格线，测试刻度网格线的参数。\n",
        "\n"
      ],
      "metadata": {}
    },
    {
      "cell_type": "code",
      "source": [
        "import matplotlib.pyplot as mp\n",
        "import numpy as np\n",
        "y = np.array([1, 10, 100, 1000, 100, 10, 1])\n",
        "mp.subplot(211)\n",
        "\n",
        "ax = mp.gca()\n",
        "ax.xaxis.set_major_locator(mp.MultipleLocator(1.0))\n",
        "ax.xaxis.set_minor_locator(mp.MultipleLocator(0.1))\n",
        "ax.yaxis.set_major_locator(mp.MultipleLocator(250))\n",
        "ax.yaxis.set_minor_locator(mp.MultipleLocator(50))\n",
        "mp.tick_params(labelsize=10)\n",
        "ax.grid(which='major', axis='both', linewidth=0.75,\n",
        "        linestyle='-', color='orange')\n",
        "ax.grid(which='minor', axis='both', linewidth=0.25,\n",
        "        linestyle='-', color='orange')\n",
        "mp.plot(y, 'o-', c='dodgerblue', label='plot')\n",
        "mp.legend()\n",
        "mp.show()\n"
      ],
      "metadata": {
        "trusted": true
      },
      "outputs": []
    },
    {
      "cell_type": "markdown",
      "source": [
        "\n",
        "### 2.2.6. 半对数坐标 mp.semilogy\n",
        "\n",
        "y轴将以指数方式递增。 基于半对数坐标绘制第二个子图，表示曲线：[1, 10, 100, 1000, 100, 10, 1]。\n",
        "\n"
      ],
      "metadata": {}
    },
    {
      "cell_type": "code",
      "source": [
        "\"\"\"\n",
        "demo09_semilogy.py 半对数坐标系\n",
        "\"\"\"\n",
        "import numpy as np\n",
        "import matplotlib.pyplot as mp\n",
        "\n",
        "mp.figure('Normal & Semilogy', facecolor='lightgray')\n",
        "mp.subplot(211)\n",
        "mp.title('Normal', fontsize=20)\n",
        "mp.ylabel('y', fontsize=14)\n",
        "y = [1, 10, 100, 1000, 100, 10, 1]\n",
        "# 设置刻度定位器\n",
        "ax = mp.gca()\n",
        "xmaloc = mp.MultipleLocator(1)\n",
        "ax.xaxis.set_major_locator(xmaloc)\n",
        "xmiloc = mp.MultipleLocator(0.1)\n",
        "ax.xaxis.set_minor_locator(xmiloc)\n",
        "ymaloc = mp.MultipleLocator(250)\n",
        "ax.yaxis.set_major_locator(ymaloc)\n",
        "ymiloc = mp.MultipleLocator(50)\n",
        "ax.yaxis.set_minor_locator(ymiloc)\n",
        "# 绘制刻度网格线\n",
        "ax.grid(which='major', axis='both',\n",
        "    color='orangered', linewidth=0.75)\n",
        "ax.grid(which='minor', axis='both',\n",
        "    color='orangered', linewidth=0.25)\n",
        "mp.plot(y, 'o-')\n",
        "\n",
        "# 半对数坐标系\n",
        "mp.subplot(212)\n",
        "y = [1, 10, 100, 1000, 100, 10, 1]\n",
        "# 设置刻度定位器\n",
        "ax = mp.gca()\n",
        "xmaloc = mp.MultipleLocator(1)\n",
        "ax.xaxis.set_major_locator(xmaloc)\n",
        "xmiloc = mp.MultipleLocator(0.1)\n",
        "ax.xaxis.set_minor_locator(xmiloc)\n",
        "ymaloc = mp.MultipleLocator(250)\n",
        "ax.yaxis.set_major_locator(ymaloc)\n",
        "ymiloc = mp.MultipleLocator(50)\n",
        "ax.yaxis.set_minor_locator(ymiloc)\n",
        "# 绘制刻度网格线\n",
        "ax.grid(which='major', axis='both',\n",
        "    color='orangered', linewidth=0.75)\n",
        "ax.grid(which='minor', axis='both',\n",
        "    color='orangered', linewidth=0.25)\n",
        "mp.semilogy(y, 'o-')  # 用法同 mp.plot()\n",
        "\n",
        "mp.show()\n"
      ],
      "metadata": {
        "trusted": true
      },
      "outputs": []
    },
    {
      "cell_type": "markdown",
      "source": [
        "\n",
        "\n",
        "### 2.2.7. 散点图 mp.scatter\n",
        "\n",
        "可以通过每个点的坐标、颜色、大小和形状表示不同的特征值。\n",
        "\n",
        "| 身高 | 体重 | 性别 | 年龄段 | 种族 |\n",
        "| ---- | ---- | ---- | ------ | ---- |\n",
        "| 180  | 80   | 男   | 中年   | 亚洲 |\n",
        "| 160  | 50   | 女   | 青少   | 美洲 |\n",
        "\n",
        "绘制散点图的相关API：\n",
        "```\n",
        "mp.scatter(\n",
        "    x,                     # x轴坐标数组\n",
        "    y,                    # y轴坐标数组\n",
        "    marker='',             # 点型\n",
        "    s=10,                # 大小\n",
        "    color='',            # 颜色\n",
        "    edgecolor='',         # 边缘颜色\n",
        "    facecolor='',        # 填充色\n",
        "    zorder=''            # 图层序号\n",
        ")\n",
        "```\n",
        "\n",
        "numpy.random提供了normal函数用于产生符合 正态分布 的随机数 \n",
        "\n"
      ],
      "metadata": {}
    },
    {
      "cell_type": "code",
      "source": [
        "n = 100\n",
        "# 172:    期望值\n",
        "# 10:    标准差\n",
        "# n:    数字生成数量\n",
        "x = np.random.normal(172, 20, n)\n",
        "y = np.random.normal(60, 10, n)\n"
      ],
      "metadata": {
        "trusted": true
      },
      "outputs": []
    },
    {
      "cell_type": "markdown",
      "source": [
        "\n",
        "案例：绘制平面散点图。\n",
        "\n"
      ],
      "metadata": {}
    },
    {
      "cell_type": "code",
      "source": [
        "\"\"\"\n",
        "demo10_scatter.py 散点图\n",
        "\"\"\"\n",
        "import numpy as np\n",
        "import matplotlib.pyplot as mp\n",
        "n = 300\n",
        "x = np.random.normal(175, 5, n)\n",
        "y = np.random.normal(65, 10, n)\n",
        "\n",
        "mp.figure('Persons', facecolor='lightgray')\n",
        "mp.title('Persons')\n",
        "\n",
        "d = (x-175)**2 + (y-65)**2\n",
        "# 设置点的颜色\n",
        "# mp.scatter(x, y, c='red')  #直接设置颜色\n",
        "mp.scatter(x, y, s=60, label='Persons',\n",
        "    c=d, cmap='jet')\n",
        "mp.legend()\n",
        "mp.show()\n"
      ],
      "metadata": {
        "trusted": true
      },
      "outputs": []
    },
    {
      "cell_type": "markdown",
      "source": [
        "\n",
        "*cmap颜色映射表参照附件：cmap颜色映射表: <a href=\"../img/Datascience/matplotlib_cmap.png\">matplotlib_cmap.png</a>*\n",
        "\n",
        "**一颗AI心**\n",
        "\n",
        "### 2.2.8. 填充 mp.fill_between\n",
        "\n",
        "以某种颜色自动填充两条曲线的闭合区域。\n",
        "\n",
        "```\n",
        "mp.fill_between(\n",
        "    x,              # x轴的水平坐标\n",
        "    sin_x,          # 下边界曲线上点的垂直坐标\n",
        "    cos_x,          # 上边界曲线上点的垂直坐标\n",
        "    sin_x<cos_x,    # 填充条件，为True时填充\n",
        "    color='',       # 填充颜色\n",
        "    alpha=0.2       # 透明度\n",
        ")\n",
        "```\n",
        "\n",
        "案例：绘制两条曲线： sin_x = sin(x)   cos_x = cos(x / 2) / 2    [0-8π]  \n",
        "\n"
      ],
      "metadata": {}
    },
    {
      "cell_type": "code",
      "source": [
        "\"\"\"\n",
        "demo01_fill.py  填充\n",
        "\"\"\"\n",
        "import matplotlib.pyplot as mp\n",
        "import numpy as np\n",
        "\n",
        "x = np.linspace(0, 8*np.pi, 1000)\n",
        "sinx = np.sin(x)\n",
        "cosx = np.cos(x/2) / 2\n",
        "mp.figure('Fill', facecolor='lightgray')\n",
        "mp.title('Fill')\n",
        "mp.plot(x, sinx, color='dodgerblue', \n",
        "    label='sinx', linewidth=2)\n",
        "mp.plot(x, cosx, color='orangered', \n",
        "    label='cosx', linewidth=2)\n",
        "# 绘制填充\n",
        "mp.fill_between(x, sinx, cosx, sinx>cosx, \n",
        "    color='dodgerblue', alpha=0.5)\n",
        "mp.fill_between(x, sinx, cosx, sinx<cosx, \n",
        "    color='orangered', alpha=0.5)\n",
        "\n",
        "mp.legend()\n",
        "mp.show()\n"
      ],
      "metadata": {
        "trusted": true
      },
      "outputs": []
    },
    {
      "cell_type": "markdown",
      "source": [
        "\n",
        "### 2.2.9. 条形图（柱状图） mp.bar\n",
        "\n",
        "绘制柱状图的相关API：\n",
        "\n",
        "```\n",
        "mp.figure('Bar', facecolor='lightgray')\n",
        "mp.bar(\n",
        "    x,                # 水平坐标数组\n",
        "    y,                # 柱状图高度数组\n",
        "    width,            # 柱子的宽度  0.8\n",
        "    color='',         # 填充颜色\n",
        "    label='',        #\n",
        "    alpha=0.2        #\n",
        ")\n",
        "```\n",
        "\n",
        "案例：先以柱状图绘制苹果12个月的销量，然后再绘制橘子的销量。\n",
        "\n"
      ],
      "metadata": {}
    },
    {
      "cell_type": "code",
      "source": [
        "import matplotlib.pyplot as mp\n",
        "import numpy as np\n",
        "apples = np.array([30, 25, 22, 36, 21, 29, 20, 24, 33, 19, 27, 15])\n",
        "oranges = np.array([24, 33, 19, 27, 35, 20, 15, 27, 20, 32, 20, 22])\n",
        "mp.figure('Bar' , facecolor='lightgray')\n",
        "mp.title('Bar', fontsize=20)\n",
        "mp.xlabel('Month', fontsize=14)\n",
        "mp.ylabel('Price', fontsize=14)\n",
        "mp.tick_params(labelsize=10)\n",
        "mp.grid(axis='y', linestyle=':')\n",
        "mp.ylim((0, 40))\n",
        "x = np.arange(len(apples))\n",
        "mp.bar(x - 0.2, apples, 0.4, color='dodgerblue',label='Apple')\n",
        "mp.bar(x + 0.2, oranges, 0.4, color='orangered',label='Orange', alpha=0.75)\n",
        "mp.xticks(x, [\n",
        "    'Jan', 'Feb', 'Mar', 'Apr', 'May', 'Jun',\n",
        "    'Jul', 'Aug', 'Sep', 'Oct', 'Nov', 'Dec'])\n",
        "mp.legend()\n",
        "mp.show()\n"
      ],
      "metadata": {
        "trusted": true
      },
      "outputs": []
    },
    {
      "cell_type": "markdown",
      "source": [
        "\n",
        "### 2.2.10. 饼图 mp.axis, mp.pie\n",
        "\n",
        "绘制饼状图的基本API：\n",
        "\n",
        "```\n",
        "mp.axis('equal')\n",
        "mp.pie(\n",
        "    values,         # 值列表        \n",
        "    spaces,         # 扇形之间的间距列表\n",
        "    labels,         # 标签列表\n",
        "    colors,         # 颜色列表\n",
        "    '%d%%',            # 标签所占比例格式\n",
        "    shadow=True,     # 是否显示阴影\n",
        "    startangle=90    # 逆时针绘制饼状图时的起始角度\n",
        "    radius=1        # 半径\n",
        ")\n",
        "```\n",
        "\n",
        "案例：绘制饼状图显示5门语言的流行程度：\n",
        "\n"
      ],
      "metadata": {}
    },
    {
      "cell_type": "code",
      "source": [
        "\"\"\"\n",
        "demo03_pie.py  饼状图\n",
        "\"\"\"\n",
        "import numpy as np\n",
        "\n",
        "labels=['Python', 'Javascript', 'C++', \n",
        "        'Java', 'PHP']\n",
        "values=[26, 17, 21, 29, 11]\n",
        "spaces=[0.05, 0.01, 0.01, 0.01, 0.01]\n",
        "colors=['dodgerblue', 'orangered', \n",
        "        'limegreen', 'violet', 'gold']\n",
        "\n",
        "mp.figure('Pie Chart', facecolor='lightgray')\n",
        "mp.title('Languages PR')\n",
        "mp.axis('equal')  # 等轴比例显示正圆\n",
        "mp.pie(values, spaces, labels, colors, \n",
        "    '%.1f%%', shadow=True, startangle=45,\n",
        "    radius=1)\n",
        "mp.legend()\n",
        "mp.show()\n"
      ],
      "metadata": {
        "trusted": true
      },
      "outputs": []
    },
    {
      "cell_type": "markdown",
      "source": [
        "\n",
        "### 2.2.11. 等高线图 mp.clabel(mp.contour)\n",
        "\n",
        "组成等高线需要网格点坐标矩阵，也需要每个点的高度。所以等高线属于3D数学模型范畴。\n",
        "\n",
        "绘制等高线的相关API：\n",
        "```\n",
        "cntr = mp.contour(\n",
        "    x,                     # 网格坐标矩阵的x坐标 （2维数组）\n",
        "    y,                     # 网格坐标矩阵的y坐标 （2维数组）\n",
        "    z,                     # 网格坐标矩阵的z坐标 （2维数组）\n",
        "    8,                     # 把等高线绘制成8部分，在高度上需要分多少阶\n",
        "    colors='black',        # 等高线的颜色\n",
        "    linewidths=0.5        # 线宽\n",
        ")\n",
        "# 为等高线图添加高度标签\n",
        "mp.clabel(cntr, inline_spacing=1, fmt='%.1f', fontsize=10)\n",
        "\n",
        "# 填充等高线\n",
        "mp.contourf(x, y, z, 8, cmap='jet')\n",
        "```\n",
        "\n",
        "案例：生成网格坐标矩阵，并且绘制等高线：\n",
        "\n"
      ],
      "metadata": {}
    },
    {
      "cell_type": "code",
      "source": [
        "import matplotlib.pyplot as mp\n",
        "import numpy as np\n",
        "n = 1000\n",
        "# 生成网格化坐标矩阵\n",
        "x, y = np.meshgrid(np.linspace(-3, 3, n),\n",
        "                   np.linspace(-3, 3, n))\n",
        "# 根据每个网格点坐标，通过某个公式计算z高度坐标\n",
        "z = (1 - x/2 + x**5 + y**3) * np.exp(-x**2 - y**2)\n",
        "mp.figure('Contour', facecolor='lightgray')\n",
        "mp.title('Contour', fontsize=20)\n",
        "mp.xlabel('x', fontsize=14)\n",
        "mp.ylabel('y', fontsize=14)\n",
        "mp.tick_params(labelsize=10)\n",
        "mp.grid(linestyle=':')\n",
        "# 绘制等高线图\n",
        "cntr = mp.contour(x, y, z, 8, colors='black',\n",
        "                  linewidths=0.5)\n",
        "# 为等高线图添加高度标签\n",
        "mp.clabel(cntr, inline_spacing=1, fmt='%.1f',\n",
        "          fontsize=10)\n",
        "# 颜色填充\n",
        "mp.contourf(x, y, z, 8, cmap='jet')\n",
        "mp.show()\n"
      ],
      "metadata": {
        "trusted": true
      },
      "outputs": []
    },
    {
      "cell_type": "markdown",
      "source": [
        "\n",
        "### 2.2.12. 热成像图 mp.imshow, mp.colorbar\n",
        "\n",
        "用图形的方式显示矩阵及矩阵中值的大小\n",
        "1 2 3\n",
        "4 5 6\n",
        "7 8 9\n",
        "\n",
        "绘制热成像图的相关API：\n",
        "\n",
        "```\n",
        "# 把矩阵z图形化，使用cmap表示矩阵中每个元素值的大小\n",
        "# origin: 坐标轴方向\n",
        "#    upper: 缺省值，原点在左上角\n",
        "#    lower: 原点在左下角\n",
        "mp.imshow(z, cmap='jet', origin='low')\n",
        "# 使用颜色条显示热度值：\n",
        "mp.colorbar()\n",
        "```\n",
        "\n"
      ],
      "metadata": {}
    },
    {
      "cell_type": "code",
      "source": [
        "\"\"\"\n",
        "demo05_imshow.py  热成像图显示矩阵\n",
        "\"\"\"\n",
        "import numpy as np\n",
        "import matplotlib.pyplot as mp\n",
        "\n",
        "n = 1000\n",
        "x, y = np.meshgrid(np.linspace(-3, 3, n), \n",
        "                   np.linspace(-3, 3, n))\n",
        "#  根据一个奇妙的公式算出每个坐标点的高度值z\n",
        "z = (1 - x/2 + x**5 + y**3) * np.exp(-x**2 - y**2)\n",
        "# 绘制\n",
        "mp.figure('Imshow', facecolor='lightgray')\n",
        "mp.title('Imshow')\n",
        "mp.grid(linestyle=':')\n",
        "mp.imshow(z, cmap='jet', origin='lower')\n",
        "mp.colorbar()\n",
        "mp.show()\n"
      ],
      "metadata": {
        "trusted": true
      },
      "outputs": []
    },
    {
      "cell_type": "markdown",
      "source": [
        "\n",
        "### 2.2.13. 3D图像绘制 mp.gca(projection='3d')\n",
        "\n",
        " matplotlib支持绘制三维曲面。若希望绘制三维曲面，需要使用axes3d提供的3d坐标系。\n",
        "\n",
        "```\n",
        "from mpl_toolkits.mplot3d import axes3d\n",
        "ax3d = mp.gca(projection='3d')   # class axes3d\n",
        "\n",
        "# matplotlib支持绘制三维点阵、三维曲面、三维线框图：\n",
        "ax3d.scatter(..)        # 绘制三维点阵\n",
        "ax3d.plot_surface(..)    # 绘制三维曲面\n",
        "ax3d.plot_wireframe(..)    # 绘制三维线框图\n",
        "\n",
        "# 3d散点图的绘制相关API：\n",
        "ax3d.scatter(\n",
        "    x,                 # x轴坐标数组\n",
        "    y,                # y轴坐标数组\n",
        "    z,                # z轴坐标数组\n",
        "    marker='',         # 点型\n",
        "    s=10,            # 大小\n",
        "    zorder='',        # 图层序号\n",
        "    color='',        # 颜色\n",
        "    edgecolor='',     # 边缘颜色\n",
        "    facecolor='',    # 填充色\n",
        "    c=v,            # 颜色值 根据cmap映射应用相应颜色\n",
        "    cmap=''            # \n",
        ")\n",
        "```\n",
        "\n",
        "#### 2.2.13.1. 3D点阵绘制 ax.scatter\n",
        "案例：随机生成3组坐标，服从标准正态分布规则，并且绘制它们。\n",
        "\n"
      ],
      "metadata": {}
    },
    {
      "cell_type": "code",
      "source": [
        "\"\"\"\n",
        "demo06_3dscatter.py  3维点阵图\n",
        "\"\"\"\n",
        "import matplotlib.pyplot as mp\n",
        "import numpy as np\n",
        "from mpl_toolkits.mplot3d import axes3d\n",
        "\n",
        "n = 500\n",
        "x = np.random.normal(0, 1, n)\n",
        "y = np.random.normal(0, 1, n)\n",
        "z = np.random.normal(0, 1, n)\n",
        "mp.figure('3D scatter')\n",
        "ax3d = mp.gca(projection='3d')\n",
        "d = x**2 + y**2 + z**2\n",
        "ax3d.scatter(x, y, z, s=70, c=d, alpha=0.7, cmap='jet')\n",
        "ax3d.set_xlabel('x')\n",
        "ax3d.set_ylabel('y')\n",
        "ax3d.set_zlabel('z')\n",
        "mp.tight_layout()\n",
        "mp.show()\n"
      ],
      "metadata": {
        "trusted": true
      },
      "outputs": []
    },
    {
      "cell_type": "markdown",
      "source": [
        "\n",
        "#### 2.2.13.2. 3D曲面绘制 ax.plot_surface\n",
        "\n",
        "3d曲面图的绘制相关API：\n",
        "\n",
        "```\n",
        "ax3d.plot_surface(\n",
        "    x,                     # 网格坐标矩阵的x坐标 （2维数组）\n",
        "    y,                     # 网格坐标矩阵的y坐标 （2维数组）\n",
        "    z,                     # 网格坐标矩阵的z坐标 （2维数组）\n",
        "    rstride=30,            # 行跨距\n",
        "    cstride=30,         # 列跨距\n",
        "    cmap='jet'            # 颜色映射\n",
        ")\n",
        "```\n",
        "\n",
        "案例：绘制3d平面图\n",
        "\n"
      ],
      "metadata": {}
    },
    {
      "cell_type": "code",
      "source": [
        "import numpy as np\n",
        "import matplotlib.pyplot as mp\n",
        "from mpl_toolkits.mplot3d import axes3d\n",
        "\n",
        "n = 1000\n",
        "# 生成网格化坐标矩阵\n",
        "x, y = np.meshgrid(np.linspace(-3, 3, n),\n",
        "                   np.linspace(-3, 3, n))\n",
        "# 根据每个网格点坐标，通过某个公式计算z高度坐标\n",
        "z = (1 - x/2 + x**5 + y**3) * np.exp(-x**2 - y**2)\n",
        "mp.figure('3D', facecolor='lightgray')\n",
        "mp.title('3D', fontsize=20)\n",
        "\n",
        "ax3d = mp.gca(projection='3d')\n",
        "ax3d.set_xlabel('x', fontsize=14)\n",
        "ax3d.set_ylabel('y', fontsize=14)\n",
        "ax3d.set_zlabel('z', fontsize=14)\n",
        "mp.tick_params(labelsize=10)\n",
        "# 绘制3D平面图\n",
        "# rstride: 行跨距\n",
        "# cstride: 列跨距 \n",
        "ax3d.plot_surface(x,y,z,rstride=20,cstride=40, cmap='jet')\n",
        "mp.show()\n"
      ],
      "metadata": {
        "trusted": true
      },
      "outputs": []
    },
    {
      "cell_type": "markdown",
      "source": [
        "\n",
        "#### 2.2.13.3. 3D线框图 ax.plot_wireframe\n",
        "\n",
        "```\n",
        "# 绘制3D平面图 \n",
        "# rstride: 行跨距\n",
        "# cstride: 列跨距 \n",
        "ax3d.plot_wireframe(x,y,z,rstride=30,cstride=30, \n",
        "    linewidth=1, color='dodgerblue')\n",
        "```\n",
        "\n",
        "案例：3d线框图的绘制\n"
      ],
      "metadata": {}
    },
    {
      "cell_type": "code",
      "source": [
        "\"\"\"\n",
        "demo08_3dwireframe.py  三维线框图\n",
        "\"\"\"\n",
        "import numpy as np\n",
        "import matplotlib.pyplot as mp\n",
        "from mpl_toolkits.mplot3d import axes3d\n",
        "\n",
        "n = 1000\n",
        "x, y = np.meshgrid(np.linspace(-3, 3, n),\n",
        "                   np.linspace(-3, 3, n))\n",
        "#  根据一个奇妙的公式算出每个坐标点的高度值z\n",
        "z = (1 - x / 2 + x**5 + y**3) * \\\n",
        "    np.exp(-x**2 - y**2)\n",
        "# 绘制\n",
        "mp.figure('3D Surface', facecolor='lightgray')\n",
        "mp.title('3D Surface')\n",
        "ax3d = mp.gca(projection='3d')\n",
        "ax3d.plot_wireframe(x, y, z, rstride=30,\n",
        "                    cstride=30, cmap='jet', linewidth=1)\n",
        "mp.show()\n"
      ],
      "metadata": {
        "trusted": true
      },
      "outputs": []
    },
    {
      "cell_type": "markdown",
      "source": [
        "\n",
        "\n",
        "### 2.2.14. 极坐标系 mp.gca(projection='polar')\n",
        "\n",
        "与笛卡尔坐标系不同，某些情况下极坐标系适合显示与角度有关的图像。例如雷达等。极坐标系可以描述极径&rho;与极角&theta;的线性关系。\n",
        "\n"
      ],
      "metadata": {}
    },
    {
      "cell_type": "code",
      "source": [
        "import matplotlib.pyplot as mp\n",
        "mp.figure(\"Polar\", facecolor='lightgray')\n",
        "mp.gca(projection='polar')\n",
        "mp.title('Porlar', fontsize=20)\n",
        "mp.xlabel(r'$\\theta$', fontsize=14)\n",
        "mp.ylabel(r'$\\rho$', fontsize=14)\n",
        "mp.tick_params(labelsize=10)\n",
        "mp.grid(linestyle=':')\n",
        "\n",
        "# 在极坐标系中绘制曲线：\n",
        "t = np.linspace(0, 4*np.pi, 1000)  # 准备数据\n",
        "r = 0.8 * t\n",
        "mp.plot(t, r)\n",
        "\n",
        "# 案例，在极坐标系中绘制正弦函数。 y=3 sin(6x)\n",
        "x = np.linspace(0, 6*np.pi, 1000)\n",
        "y = 3*np.sin(6*x)\n",
        "mp.plot(x, y, color='red')\n",
        "mp.show()\n"
      ],
      "metadata": {
        "trusted": true
      },
      "outputs": []
    },
    {
      "cell_type": "markdown",
      "source": [
        "\n",
        "### 2.2.15. 简单动画 ma.FuncAnimation(mp.gcf(), func, interval=10)\n",
        "\n",
        "动画即是在一段时间内快速连续的重新绘制图像的过程。\n",
        "\n",
        "matplotlib提供了方法用于处理简单动画的绘制。定义update函数用于即时更新图像。\n",
        "\n"
      ],
      "metadata": {}
    },
    {
      "cell_type": "code",
      "source": [
        "import matplotlib.animation as ma\n",
        "#定义更新函数行为\n",
        "def update(number):\n",
        "    pass\n",
        "# 每隔10毫秒执行一次update更新函数，作用于mp.gcf()当前窗口对象\n",
        "# mp.gcf()：    获取当前窗口\n",
        "# update：    更新函数\n",
        "# interval：    间隔时间（单位：毫秒）\n",
        "anim = ma.FuncAnimation(mp.gcf(), update, interval=10)\n",
        "mp.show()\n"
      ],
      "metadata": {
        "trusted": true
      },
      "outputs": []
    },
    {
      "cell_type": "markdown",
      "source": [
        "\n",
        "案例：随机生成各种颜色的100个气泡。让他们不断的增大。\n",
        "\n"
      ],
      "metadata": {}
    },
    {
      "cell_type": "code",
      "source": [
        "import numpy as np\n",
        "import matplotlib.pyplot as mp\n",
        "import matplotlib.animation as ma\n",
        "\n",
        "#自定义一种可以存放在ndarray里的类型，用于保存一个球\n",
        "ball_type = np.dtype([\n",
        "    ('position', float, 2),  # 位置(水平和垂直坐标)\n",
        "    ('size', float, 1),      # 大小\n",
        "    ('growth', float, 1),    # 生长速度\n",
        "    ('color', float, 4)])    # 颜色(红、绿、蓝和透明度)\n",
        "\n",
        "#随机生成100个点对象\n",
        "n = 100\n",
        "balls = np.zeros(100, dtype=ball_type)\n",
        "balls['position'] = np.random.uniform(0, 1, (n, 2))\n",
        "balls['size'] = np.random.uniform(40, 70, n)\n",
        "balls['growth'] = np.random.uniform(10, 20, n)\n",
        "balls['color'] = np.random.uniform(0, 1, (n, 4))\n",
        "\n",
        "mp.figure(\"Animation\", facecolor='lightgray')\n",
        "mp.title(\"Animation\", fontsize=14)\n",
        "mp.xticks([])\n",
        "mp.yticks([])\n",
        "\n",
        "sc = mp.scatter(\n",
        "    balls['position'][:, 0], \n",
        "    balls['position'][:, 1], \n",
        "    balls['size'], \n",
        "    color=balls['color'], alpha=0.5)\n",
        "\n",
        "#定义更新函数行为\n",
        "def update(number):\n",
        "    balls['size'] += balls['growth']\n",
        "    #每次让一个气泡破裂，随机生成一个新的\n",
        "    boom_ind = number % n\n",
        "    balls[boom_ind]['size']=np.random.uniform(40, 70, 1)\n",
        "    balls[boom_ind]['position']=np.random.uniform(0, 1, (1, 2))\n",
        "    # 重新设置属性\n",
        "    sc.set_sizes(balls['size'])\n",
        "    sc.set_offsets(balls['position'])\n",
        "    \n",
        "# 每隔30毫秒执行一次update更新函数，作用于mp.gcf()当前窗口对象\n",
        "# mp.gcf()：    获取当前窗口\n",
        "# update：        更新函数\n",
        "# interval：    间隔时间（单位：毫秒）\n",
        "anim = ma.FuncAnimation(mp.gcf(), update, interval=30)\n",
        "mp.show()  # 触发动画\n"
      ],
      "metadata": {
        "trusted": true
      },
      "outputs": []
    },
    {
      "cell_type": "markdown",
      "source": [
        "\n",
        "使用生成器函数提供数据，实现动画绘制\n",
        "\n",
        "在很多情况下，绘制动画的参数是动态获取的，matplotlib支持定义generator生成器函数，用于生成数据，把生成的数据交给update函数更新图像：\n",
        "\n",
        "```\n",
        "import matplotlib.animation as ma\n",
        "#定义更新函数行为\n",
        "def update(data):\n",
        "    t, v = data\n",
        "    ...\n",
        "    pass\n",
        "\n",
        "def generator():\n",
        "    yield t, v\n",
        "        \n",
        "# 每隔10毫秒将会先调用生成器，获取生成器返回的数据，\n",
        "# 把生成器返回的数据交给并且调用update函数，执行更新图像函数\n",
        "anim = ma.FuncAnimation(mp.gcf(), update, generator,interval=10)\n",
        "```\n",
        "\n",
        "案例：绘制信号曲线：y=sin(2 * π * t) * exp(sin(0.2 * π * t))，数据通过生成器函数生成，在update函数中绘制曲线。\n",
        "\n"
      ],
      "metadata": {}
    },
    {
      "cell_type": "code",
      "source": [
        "import numpy as np\n",
        "import matplotlib.animation as ma\n",
        "\n",
        "\n",
        "mp.figure(\"Signal\", facecolor='lightgray')\n",
        "mp.title(\"Signal\", fontsize=14)\n",
        "mp.xlim(0, 10)\n",
        "mp.ylim(-3, 3)\n",
        "mp.grid(linestyle='--', color='lightgray', alpha=0.5)\n",
        "pl = mp.plot([], [], color='dodgerblue', label='Signal')[0]\n",
        "\n",
        "x = 0\n",
        "\n",
        "def update(data):\n",
        "    t, v = data\n",
        "    x, y = pl.get_data()\n",
        "    #x是保存x坐标的ndarray对象\n",
        "    #y是保存y坐标的ndarray对象\n",
        "    x = np.append(x, t)\n",
        "    y = np.append(y, v)\n",
        "    #重新设置数据源\n",
        "    pl.set_data(x, y)\n",
        "    #移动坐标轴\n",
        "    if(x[-1]>5):\n",
        "        mp.xlim(x[-1]-5, x[-1]+5)\n",
        "\n",
        "def y_generator():\n",
        "    global x\n",
        "    y = np.sin(2 * np.pi * x) * np.exp(np.sin(0.2 * np.pi * x))\n",
        "    yield (x, y)\n",
        "    x += 0.05\n",
        "\n",
        "anim = ma.FuncAnimation(mp.gcf(), update, y_generator, interval=20)\n",
        "mp.tight_layout()\n",
        "mp.show()\n"
      ],
      "metadata": {
        "trusted": true
      },
      "outputs": []
    },
    {
      "cell_type": "markdown",
      "source": [
        "\n",
        "## 图形绘制\n",
        "\n",
        "### 圆\n",
        "\n"
      ],
      "metadata": {}
    },
    {
      "cell_type": "code",
      "source": [
        "import matplotlib.pyplot as plt\n",
        "\n",
        "circles = [\n",
        "    plt.Circle((0, 0), 1, color='#000000', fill=False),\n",
        "    plt.Circle((0, 0), 0.5, color='#000000', fill=True)\n",
        "    ]\n",
        "\n",
        "fig, ax = plt.subplots()\n",
        "\n",
        "plt.xlim(-1.25, 1.25)\n",
        "plt.ylim(-1.25, 1.25)\n",
        "\n",
        "# plt.grid(linestyle='--')\n",
        "ax.set_aspect(1)\n",
        "\n",
        "for circle in circles:\n",
        "    ax.add_artist(circle)\n"
      ],
      "metadata": {
        "trusted": true
      },
      "outputs": []
    },
    {
      "cell_type": "markdown",
      "source": [
        "\n",
        "\n",
        "# 图像的输出\n",
        "\n",
        "【待补充】\n",
        "\n",
        "# 附\n",
        "\n",
        "## 一些画图调试技巧\n",
        "\n",
        "实时显示\n",
        "\n"
      ],
      "metadata": {}
    },
    {
      "cell_type": "code",
      "source": [
        "import matplotlib.pyplot as mp\n",
        "import matplotlib.gridspec as mg\n",
        "\n",
        "mp.ion()  # 开启一个画图的窗口\n",
        "mp.plot([1,2,3], [2,5,6])\n",
        "mp.figure()\n",
        "mp.plot([1,2,3], [1,3,2])\n",
        "mp.show() # 前台画图窗口\n"
      ],
      "metadata": {
        "trusted": true
      },
      "outputs": []
    }
  ]
}
